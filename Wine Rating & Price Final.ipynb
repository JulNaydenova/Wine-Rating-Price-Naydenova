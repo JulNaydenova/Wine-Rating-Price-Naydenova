{
 "cells": [
  {
   "cell_type": "markdown",
   "id": "0e026b93",
   "metadata": {},
   "source": [
    "# Анализ рейтинга и цены красных вин\n",
    "\n",
    "Данные взяты с сайта Vivino"
   ]
  },
  {
   "cell_type": "markdown",
   "id": "610daa80",
   "metadata": {},
   "source": [
    "**Используемые колонки**\n",
    "\n",
    "Name - Название вина\n",
    "\n",
    "Country - Страна производства\n",
    "\n",
    "Region - Регион\n",
    "\n",
    "Winery - Винодельня\n",
    "\n",
    "Rating - Рейтинг (на сайте Vivino)\n",
    "\n",
    "Namber of ratings - Количество отзывов\n",
    "\n",
    "Price - Цена\n",
    "\n",
    "Year - Год производства"
   ]
  },
  {
   "cell_type": "code",
   "execution_count": 1,
   "id": "accd77bb",
   "metadata": {},
   "outputs": [],
   "source": [
    "import numpy as np"
   ]
  },
  {
   "cell_type": "code",
   "execution_count": 2,
   "id": "ee543ee0",
   "metadata": {},
   "outputs": [],
   "source": [
    "import pandas as pd"
   ]
  },
  {
   "cell_type": "code",
   "execution_count": 3,
   "id": "74e45f91",
   "metadata": {},
   "outputs": [],
   "source": [
    "wine = pd.read_csv('Desktop/Red.csv')"
   ]
  },
  {
   "cell_type": "markdown",
   "id": "4c680755",
   "metadata": {},
   "source": [
    "Познакомимся с данными датасета"
   ]
  },
  {
   "cell_type": "code",
   "execution_count": 4,
   "id": "c0fb50f0",
   "metadata": {},
   "outputs": [
    {
     "data": {
      "text/html": [
       "<div>\n",
       "<style scoped>\n",
       "    .dataframe tbody tr th:only-of-type {\n",
       "        vertical-align: middle;\n",
       "    }\n",
       "\n",
       "    .dataframe tbody tr th {\n",
       "        vertical-align: top;\n",
       "    }\n",
       "\n",
       "    .dataframe thead th {\n",
       "        text-align: right;\n",
       "    }\n",
       "</style>\n",
       "<table border=\"1\" class=\"dataframe\">\n",
       "  <thead>\n",
       "    <tr style=\"text-align: right;\">\n",
       "      <th></th>\n",
       "      <th>Name</th>\n",
       "      <th>Country</th>\n",
       "      <th>Region</th>\n",
       "      <th>Winery</th>\n",
       "      <th>Rating</th>\n",
       "      <th>NumberOfRatings</th>\n",
       "      <th>Price</th>\n",
       "      <th>Year</th>\n",
       "    </tr>\n",
       "  </thead>\n",
       "  <tbody>\n",
       "    <tr>\n",
       "      <th>0</th>\n",
       "      <td>Pomerol 2011</td>\n",
       "      <td>France</td>\n",
       "      <td>Pomerol</td>\n",
       "      <td>Château La Providence</td>\n",
       "      <td>4.2</td>\n",
       "      <td>100</td>\n",
       "      <td>95.00</td>\n",
       "      <td>2011</td>\n",
       "    </tr>\n",
       "    <tr>\n",
       "      <th>1</th>\n",
       "      <td>Lirac 2017</td>\n",
       "      <td>France</td>\n",
       "      <td>Lirac</td>\n",
       "      <td>Château Mont-Redon</td>\n",
       "      <td>4.3</td>\n",
       "      <td>100</td>\n",
       "      <td>15.50</td>\n",
       "      <td>2017</td>\n",
       "    </tr>\n",
       "    <tr>\n",
       "      <th>2</th>\n",
       "      <td>Erta e China Rosso di Toscana 2015</td>\n",
       "      <td>Italy</td>\n",
       "      <td>Toscana</td>\n",
       "      <td>Renzo Masi</td>\n",
       "      <td>3.9</td>\n",
       "      <td>100</td>\n",
       "      <td>7.45</td>\n",
       "      <td>2015</td>\n",
       "    </tr>\n",
       "    <tr>\n",
       "      <th>3</th>\n",
       "      <td>Bardolino 2019</td>\n",
       "      <td>Italy</td>\n",
       "      <td>Bardolino</td>\n",
       "      <td>Cavalchina</td>\n",
       "      <td>3.5</td>\n",
       "      <td>100</td>\n",
       "      <td>8.72</td>\n",
       "      <td>2019</td>\n",
       "    </tr>\n",
       "    <tr>\n",
       "      <th>4</th>\n",
       "      <td>Ried Scheibner Pinot Noir 2016</td>\n",
       "      <td>Austria</td>\n",
       "      <td>Carnuntum</td>\n",
       "      <td>Markowitsch</td>\n",
       "      <td>3.9</td>\n",
       "      <td>100</td>\n",
       "      <td>29.15</td>\n",
       "      <td>2016</td>\n",
       "    </tr>\n",
       "    <tr>\n",
       "      <th>...</th>\n",
       "      <td>...</td>\n",
       "      <td>...</td>\n",
       "      <td>...</td>\n",
       "      <td>...</td>\n",
       "      <td>...</td>\n",
       "      <td>...</td>\n",
       "      <td>...</td>\n",
       "      <td>...</td>\n",
       "    </tr>\n",
       "    <tr>\n",
       "      <th>8661</th>\n",
       "      <td>6th Sense Syrah 2016</td>\n",
       "      <td>United States</td>\n",
       "      <td>Lodi</td>\n",
       "      <td>Michael David Winery</td>\n",
       "      <td>3.8</td>\n",
       "      <td>994</td>\n",
       "      <td>16.47</td>\n",
       "      <td>2016</td>\n",
       "    </tr>\n",
       "    <tr>\n",
       "      <th>8662</th>\n",
       "      <td>Botrosecco Maremma Toscana 2016</td>\n",
       "      <td>Italy</td>\n",
       "      <td>Maremma Toscana</td>\n",
       "      <td>Le Mortelle</td>\n",
       "      <td>4.0</td>\n",
       "      <td>995</td>\n",
       "      <td>20.09</td>\n",
       "      <td>2016</td>\n",
       "    </tr>\n",
       "    <tr>\n",
       "      <th>8663</th>\n",
       "      <td>Haut-Médoc 2010</td>\n",
       "      <td>France</td>\n",
       "      <td>Haut-Médoc</td>\n",
       "      <td>Château Cambon La Pelouse</td>\n",
       "      <td>3.7</td>\n",
       "      <td>996</td>\n",
       "      <td>23.95</td>\n",
       "      <td>2010</td>\n",
       "    </tr>\n",
       "    <tr>\n",
       "      <th>8664</th>\n",
       "      <td>Shiraz 2019</td>\n",
       "      <td>Australia</td>\n",
       "      <td>South Eastern Australia</td>\n",
       "      <td>Yellow Tail</td>\n",
       "      <td>3.5</td>\n",
       "      <td>998</td>\n",
       "      <td>6.21</td>\n",
       "      <td>2019</td>\n",
       "    </tr>\n",
       "    <tr>\n",
       "      <th>8665</th>\n",
       "      <td>Portillo Cabernet Sauvignon 2016</td>\n",
       "      <td>Argentina</td>\n",
       "      <td>Tunuyán</td>\n",
       "      <td>Salentein</td>\n",
       "      <td>3.4</td>\n",
       "      <td>999</td>\n",
       "      <td>7.88</td>\n",
       "      <td>2016</td>\n",
       "    </tr>\n",
       "  </tbody>\n",
       "</table>\n",
       "<p>8666 rows × 8 columns</p>\n",
       "</div>"
      ],
      "text/plain": [
       "                                    Name        Country  \\\n",
       "0                           Pomerol 2011         France   \n",
       "1                             Lirac 2017         France   \n",
       "2     Erta e China Rosso di Toscana 2015          Italy   \n",
       "3                         Bardolino 2019          Italy   \n",
       "4         Ried Scheibner Pinot Noir 2016        Austria   \n",
       "...                                  ...            ...   \n",
       "8661                6th Sense Syrah 2016  United States   \n",
       "8662     Botrosecco Maremma Toscana 2016          Italy   \n",
       "8663                     Haut-Médoc 2010         France   \n",
       "8664                         Shiraz 2019      Australia   \n",
       "8665    Portillo Cabernet Sauvignon 2016      Argentina   \n",
       "\n",
       "                       Region                     Winery  Rating  \\\n",
       "0                     Pomerol      Château La Providence     4.2   \n",
       "1                       Lirac         Château Mont-Redon     4.3   \n",
       "2                     Toscana                 Renzo Masi     3.9   \n",
       "3                   Bardolino                 Cavalchina     3.5   \n",
       "4                   Carnuntum                Markowitsch     3.9   \n",
       "...                       ...                        ...     ...   \n",
       "8661                     Lodi       Michael David Winery     3.8   \n",
       "8662          Maremma Toscana                Le Mortelle     4.0   \n",
       "8663               Haut-Médoc  Château Cambon La Pelouse     3.7   \n",
       "8664  South Eastern Australia                Yellow Tail     3.5   \n",
       "8665                  Tunuyán                  Salentein     3.4   \n",
       "\n",
       "      NumberOfRatings  Price  Year  \n",
       "0                 100  95.00  2011  \n",
       "1                 100  15.50  2017  \n",
       "2                 100   7.45  2015  \n",
       "3                 100   8.72  2019  \n",
       "4                 100  29.15  2016  \n",
       "...               ...    ...   ...  \n",
       "8661              994  16.47  2016  \n",
       "8662              995  20.09  2016  \n",
       "8663              996  23.95  2010  \n",
       "8664              998   6.21  2019  \n",
       "8665              999   7.88  2016  \n",
       "\n",
       "[8666 rows x 8 columns]"
      ]
     },
     "execution_count": 4,
     "metadata": {},
     "output_type": "execute_result"
    }
   ],
   "source": [
    "wine"
   ]
  },
  {
   "cell_type": "code",
   "execution_count": 5,
   "id": "bc3b6f1e",
   "metadata": {},
   "outputs": [
    {
     "data": {
      "text/html": [
       "<div>\n",
       "<style scoped>\n",
       "    .dataframe tbody tr th:only-of-type {\n",
       "        vertical-align: middle;\n",
       "    }\n",
       "\n",
       "    .dataframe tbody tr th {\n",
       "        vertical-align: top;\n",
       "    }\n",
       "\n",
       "    .dataframe thead th {\n",
       "        text-align: right;\n",
       "    }\n",
       "</style>\n",
       "<table border=\"1\" class=\"dataframe\">\n",
       "  <thead>\n",
       "    <tr style=\"text-align: right;\">\n",
       "      <th></th>\n",
       "      <th>Name</th>\n",
       "      <th>Country</th>\n",
       "      <th>Region</th>\n",
       "      <th>Winery</th>\n",
       "      <th>Rating</th>\n",
       "      <th>NumberOfRatings</th>\n",
       "      <th>Price</th>\n",
       "      <th>Year</th>\n",
       "    </tr>\n",
       "  </thead>\n",
       "  <tbody>\n",
       "    <tr>\n",
       "      <th>0</th>\n",
       "      <td>Pomerol 2011</td>\n",
       "      <td>France</td>\n",
       "      <td>Pomerol</td>\n",
       "      <td>Château La Providence</td>\n",
       "      <td>4.2</td>\n",
       "      <td>100</td>\n",
       "      <td>95.00</td>\n",
       "      <td>2011</td>\n",
       "    </tr>\n",
       "    <tr>\n",
       "      <th>1</th>\n",
       "      <td>Lirac 2017</td>\n",
       "      <td>France</td>\n",
       "      <td>Lirac</td>\n",
       "      <td>Château Mont-Redon</td>\n",
       "      <td>4.3</td>\n",
       "      <td>100</td>\n",
       "      <td>15.50</td>\n",
       "      <td>2017</td>\n",
       "    </tr>\n",
       "    <tr>\n",
       "      <th>2</th>\n",
       "      <td>Erta e China Rosso di Toscana 2015</td>\n",
       "      <td>Italy</td>\n",
       "      <td>Toscana</td>\n",
       "      <td>Renzo Masi</td>\n",
       "      <td>3.9</td>\n",
       "      <td>100</td>\n",
       "      <td>7.45</td>\n",
       "      <td>2015</td>\n",
       "    </tr>\n",
       "    <tr>\n",
       "      <th>3</th>\n",
       "      <td>Bardolino 2019</td>\n",
       "      <td>Italy</td>\n",
       "      <td>Bardolino</td>\n",
       "      <td>Cavalchina</td>\n",
       "      <td>3.5</td>\n",
       "      <td>100</td>\n",
       "      <td>8.72</td>\n",
       "      <td>2019</td>\n",
       "    </tr>\n",
       "    <tr>\n",
       "      <th>4</th>\n",
       "      <td>Ried Scheibner Pinot Noir 2016</td>\n",
       "      <td>Austria</td>\n",
       "      <td>Carnuntum</td>\n",
       "      <td>Markowitsch</td>\n",
       "      <td>3.9</td>\n",
       "      <td>100</td>\n",
       "      <td>29.15</td>\n",
       "      <td>2016</td>\n",
       "    </tr>\n",
       "  </tbody>\n",
       "</table>\n",
       "</div>"
      ],
      "text/plain": [
       "                                 Name  Country     Region  \\\n",
       "0                        Pomerol 2011   France    Pomerol   \n",
       "1                          Lirac 2017   France      Lirac   \n",
       "2  Erta e China Rosso di Toscana 2015    Italy    Toscana   \n",
       "3                      Bardolino 2019    Italy  Bardolino   \n",
       "4      Ried Scheibner Pinot Noir 2016  Austria  Carnuntum   \n",
       "\n",
       "                  Winery  Rating  NumberOfRatings  Price  Year  \n",
       "0  Château La Providence     4.2              100  95.00  2011  \n",
       "1     Château Mont-Redon     4.3              100  15.50  2017  \n",
       "2             Renzo Masi     3.9              100   7.45  2015  \n",
       "3             Cavalchina     3.5              100   8.72  2019  \n",
       "4            Markowitsch     3.9              100  29.15  2016  "
      ]
     },
     "execution_count": 5,
     "metadata": {},
     "output_type": "execute_result"
    }
   ],
   "source": [
    "wine.head()  #посмотрим первые пять рядов для изучения предоставленных данных"
   ]
  },
  {
   "cell_type": "markdown",
   "id": "5f082bd9",
   "metadata": {},
   "source": [
    "**При анализе данных будут изучены факторы, влияющие на рейтинг вина**"
   ]
  },
  {
   "cell_type": "code",
   "execution_count": 6,
   "id": "f933a2c1",
   "metadata": {},
   "outputs": [
    {
     "data": {
      "text/plain": [
       "(8666, 8)"
      ]
     },
     "execution_count": 6,
     "metadata": {},
     "output_type": "execute_result"
    }
   ],
   "source": [
    "wine.shape   #посмотрим размер датасета"
   ]
  },
  {
   "cell_type": "code",
   "execution_count": 7,
   "id": "2aaf48b0",
   "metadata": {},
   "outputs": [
    {
     "name": "stdout",
     "output_type": "stream",
     "text": [
      "<class 'pandas.core.frame.DataFrame'>\n",
      "RangeIndex: 8666 entries, 0 to 8665\n",
      "Data columns (total 8 columns):\n",
      " #   Column           Non-Null Count  Dtype  \n",
      "---  ------           --------------  -----  \n",
      " 0   Name             8666 non-null   object \n",
      " 1   Country          8666 non-null   object \n",
      " 2   Region           8666 non-null   object \n",
      " 3   Winery           8666 non-null   object \n",
      " 4   Rating           8666 non-null   float64\n",
      " 5   NumberOfRatings  8666 non-null   int64  \n",
      " 6   Price            8666 non-null   float64\n",
      " 7   Year             8666 non-null   object \n",
      "dtypes: float64(2), int64(1), object(5)\n",
      "memory usage: 541.8+ KB\n"
     ]
    }
   ],
   "source": [
    "wine.info()    #посмотрим основную информацию о датасете"
   ]
  },
  {
   "cell_type": "markdown",
   "id": "cff206b6",
   "metadata": {},
   "source": [
    "*В данном датасете нет пропущенных значений*"
   ]
  },
  {
   "cell_type": "code",
   "execution_count": 8,
   "id": "6094b38b",
   "metadata": {},
   "outputs": [
    {
     "data": {
      "text/plain": [
       "array(['France', 'Italy', 'Austria', 'New Zealand', 'Chile', 'Australia',\n",
       "       'South Africa', 'Spain', 'United States', 'Portugal', 'Hungary',\n",
       "       'Brazil', 'Argentina', 'Romania', 'Germany', 'Greece', 'Mexico',\n",
       "       'Moldova', 'Switzerland', 'Slovenia', 'Israel', 'Georgia',\n",
       "       'Lebanon', 'Uruguay', 'Turkey', 'Croatia', 'China', 'Slovakia',\n",
       "       'Bulgaria', 'Canada'], dtype=object)"
      ]
     },
     "execution_count": 8,
     "metadata": {},
     "output_type": "execute_result"
    }
   ],
   "source": [
    "wine['Country'].unique()  #посмотрим из каких стран оценивалось вино"
   ]
  },
  {
   "cell_type": "code",
   "execution_count": 9,
   "id": "03d60b1e",
   "metadata": {},
   "outputs": [
    {
     "data": {
      "text/plain": [
       "array(['2011', '2017', '2015', '2019', '2016', '2014', '2013', '2018',\n",
       "       '2012', '2010', '2007', '2005', '1999', '2002', '2008', '2006',\n",
       "       '2009', 'N.V.', '2000', '2004', '2001', '1996', '1998', '1990',\n",
       "       '1995', '2003', '1993', '1988', '1989', '1997', '1992', '1991'],\n",
       "      dtype=object)"
      ]
     },
     "execution_count": 9,
     "metadata": {},
     "output_type": "execute_result"
    }
   ],
   "source": [
    "wine['Year'].unique()  #посмотрим вина каких годов есть в датасете"
   ]
  },
  {
   "cell_type": "code",
   "execution_count": 10,
   "id": "b1a00243",
   "metadata": {},
   "outputs": [
    {
     "data": {
      "text/html": [
       "<div>\n",
       "<style scoped>\n",
       "    .dataframe tbody tr th:only-of-type {\n",
       "        vertical-align: middle;\n",
       "    }\n",
       "\n",
       "    .dataframe tbody tr th {\n",
       "        vertical-align: top;\n",
       "    }\n",
       "\n",
       "    .dataframe thead th {\n",
       "        text-align: right;\n",
       "    }\n",
       "</style>\n",
       "<table border=\"1\" class=\"dataframe\">\n",
       "  <thead>\n",
       "    <tr style=\"text-align: right;\">\n",
       "      <th></th>\n",
       "      <th>Name</th>\n",
       "      <th>Country</th>\n",
       "      <th>Region</th>\n",
       "      <th>Winery</th>\n",
       "      <th>Rating</th>\n",
       "      <th>NumberOfRatings</th>\n",
       "      <th>Price</th>\n",
       "      <th>Year</th>\n",
       "    </tr>\n",
       "  </thead>\n",
       "  <tbody>\n",
       "    <tr>\n",
       "      <th>2</th>\n",
       "      <td>Erta e China Rosso di Toscana 2015</td>\n",
       "      <td>Italy</td>\n",
       "      <td>Toscana</td>\n",
       "      <td>Renzo Masi</td>\n",
       "      <td>3.9</td>\n",
       "      <td>100</td>\n",
       "      <td>7.45</td>\n",
       "      <td>2015</td>\n",
       "    </tr>\n",
       "    <tr>\n",
       "      <th>3</th>\n",
       "      <td>Bardolino 2019</td>\n",
       "      <td>Italy</td>\n",
       "      <td>Bardolino</td>\n",
       "      <td>Cavalchina</td>\n",
       "      <td>3.5</td>\n",
       "      <td>100</td>\n",
       "      <td>8.72</td>\n",
       "      <td>2019</td>\n",
       "    </tr>\n",
       "    <tr>\n",
       "      <th>8</th>\n",
       "      <td>Chianti 2015</td>\n",
       "      <td>Italy</td>\n",
       "      <td>Chianti</td>\n",
       "      <td>Castello Montaùto</td>\n",
       "      <td>3.6</td>\n",
       "      <td>100</td>\n",
       "      <td>10.75</td>\n",
       "      <td>2015</td>\n",
       "    </tr>\n",
       "    <tr>\n",
       "      <th>10</th>\n",
       "      <td>Chianti Riserva 2013</td>\n",
       "      <td>Italy</td>\n",
       "      <td>Chianti</td>\n",
       "      <td>Poggiotondo</td>\n",
       "      <td>3.9</td>\n",
       "      <td>100</td>\n",
       "      <td>20.95</td>\n",
       "      <td>2013</td>\n",
       "    </tr>\n",
       "    <tr>\n",
       "      <th>13</th>\n",
       "      <td>Zenas Primitivo 2018</td>\n",
       "      <td>Italy</td>\n",
       "      <td>Puglia</td>\n",
       "      <td>La Bollina</td>\n",
       "      <td>3.6</td>\n",
       "      <td>100</td>\n",
       "      <td>9.26</td>\n",
       "      <td>2018</td>\n",
       "    </tr>\n",
       "    <tr>\n",
       "      <th>...</th>\n",
       "      <td>...</td>\n",
       "      <td>...</td>\n",
       "      <td>...</td>\n",
       "      <td>...</td>\n",
       "      <td>...</td>\n",
       "      <td>...</td>\n",
       "      <td>...</td>\n",
       "      <td>...</td>\n",
       "    </tr>\n",
       "    <tr>\n",
       "      <th>8642</th>\n",
       "      <td>Barbaresco 2015</td>\n",
       "      <td>Italy</td>\n",
       "      <td>Barbaresco</td>\n",
       "      <td>Bera</td>\n",
       "      <td>3.9</td>\n",
       "      <td>99</td>\n",
       "      <td>23.30</td>\n",
       "      <td>2015</td>\n",
       "    </tr>\n",
       "    <tr>\n",
       "      <th>8648</th>\n",
       "      <td>Blu Onice Aglianico Irpinia 2017</td>\n",
       "      <td>Italy</td>\n",
       "      <td>Irpinia</td>\n",
       "      <td>Nativ</td>\n",
       "      <td>4.2</td>\n",
       "      <td>99</td>\n",
       "      <td>16.50</td>\n",
       "      <td>2017</td>\n",
       "    </tr>\n",
       "    <tr>\n",
       "      <th>8654</th>\n",
       "      <td>Scipio 2013</td>\n",
       "      <td>Italy</td>\n",
       "      <td>Toscana</td>\n",
       "      <td>Tenuta dei Sette Cieli</td>\n",
       "      <td>4.3</td>\n",
       "      <td>99</td>\n",
       "      <td>63.39</td>\n",
       "      <td>2013</td>\n",
       "    </tr>\n",
       "    <tr>\n",
       "      <th>8658</th>\n",
       "      <td>Bricco dell'Uccellone Barbera d'Asti 2016</td>\n",
       "      <td>Italy</td>\n",
       "      <td>Barbera d'Asti</td>\n",
       "      <td>Braida</td>\n",
       "      <td>4.3</td>\n",
       "      <td>990</td>\n",
       "      <td>52.00</td>\n",
       "      <td>2016</td>\n",
       "    </tr>\n",
       "    <tr>\n",
       "      <th>8662</th>\n",
       "      <td>Botrosecco Maremma Toscana 2016</td>\n",
       "      <td>Italy</td>\n",
       "      <td>Maremma Toscana</td>\n",
       "      <td>Le Mortelle</td>\n",
       "      <td>4.0</td>\n",
       "      <td>995</td>\n",
       "      <td>20.09</td>\n",
       "      <td>2016</td>\n",
       "    </tr>\n",
       "  </tbody>\n",
       "</table>\n",
       "<p>2650 rows × 8 columns</p>\n",
       "</div>"
      ],
      "text/plain": [
       "                                           Name Country           Region  \\\n",
       "2            Erta e China Rosso di Toscana 2015   Italy          Toscana   \n",
       "3                                Bardolino 2019   Italy        Bardolino   \n",
       "8                                  Chianti 2015   Italy          Chianti   \n",
       "10                         Chianti Riserva 2013   Italy          Chianti   \n",
       "13                         Zenas Primitivo 2018   Italy           Puglia   \n",
       "...                                         ...     ...              ...   \n",
       "8642                            Barbaresco 2015   Italy       Barbaresco   \n",
       "8648           Blu Onice Aglianico Irpinia 2017   Italy          Irpinia   \n",
       "8654                                Scipio 2013   Italy          Toscana   \n",
       "8658  Bricco dell'Uccellone Barbera d'Asti 2016   Italy   Barbera d'Asti   \n",
       "8662            Botrosecco Maremma Toscana 2016   Italy  Maremma Toscana   \n",
       "\n",
       "                      Winery  Rating  NumberOfRatings  Price  Year  \n",
       "2                 Renzo Masi     3.9              100   7.45  2015  \n",
       "3                 Cavalchina     3.5              100   8.72  2019  \n",
       "8          Castello Montaùto     3.6              100  10.75  2015  \n",
       "10               Poggiotondo     3.9              100  20.95  2013  \n",
       "13                La Bollina     3.6              100   9.26  2018  \n",
       "...                      ...     ...              ...    ...   ...  \n",
       "8642                    Bera     3.9               99  23.30  2015  \n",
       "8648                   Nativ     4.2               99  16.50  2017  \n",
       "8654  Tenuta dei Sette Cieli     4.3               99  63.39  2013  \n",
       "8658                  Braida     4.3              990  52.00  2016  \n",
       "8662             Le Mortelle     4.0              995  20.09  2016  \n",
       "\n",
       "[2650 rows x 8 columns]"
      ]
     },
     "execution_count": 10,
     "metadata": {},
     "output_type": "execute_result"
    }
   ],
   "source": [
    "wine[wine['Country'] == 'Italy']  #выведем количество итальянских вин"
   ]
  },
  {
   "cell_type": "markdown",
   "id": "dd6a9be7",
   "metadata": {},
   "source": [
    "Видим, что итальянских вин 2650 шт"
   ]
  },
  {
   "cell_type": "code",
   "execution_count": 11,
   "id": "9424844b",
   "metadata": {},
   "outputs": [
    {
     "data": {
      "text/html": [
       "<div>\n",
       "<style scoped>\n",
       "    .dataframe tbody tr th:only-of-type {\n",
       "        vertical-align: middle;\n",
       "    }\n",
       "\n",
       "    .dataframe tbody tr th {\n",
       "        vertical-align: top;\n",
       "    }\n",
       "\n",
       "    .dataframe thead th {\n",
       "        text-align: right;\n",
       "    }\n",
       "</style>\n",
       "<table border=\"1\" class=\"dataframe\">\n",
       "  <thead>\n",
       "    <tr style=\"text-align: right;\">\n",
       "      <th></th>\n",
       "      <th>Name</th>\n",
       "      <th>Country</th>\n",
       "      <th>Region</th>\n",
       "      <th>Winery</th>\n",
       "      <th>Rating</th>\n",
       "      <th>NumberOfRatings</th>\n",
       "      <th>Price</th>\n",
       "      <th>Year</th>\n",
       "    </tr>\n",
       "  </thead>\n",
       "  <tbody>\n",
       "    <tr>\n",
       "      <th>1</th>\n",
       "      <td>Lirac 2017</td>\n",
       "      <td>France</td>\n",
       "      <td>Lirac</td>\n",
       "      <td>Château Mont-Redon</td>\n",
       "      <td>4.3</td>\n",
       "      <td>100</td>\n",
       "      <td>15.50</td>\n",
       "      <td>2017</td>\n",
       "    </tr>\n",
       "    <tr>\n",
       "      <th>5</th>\n",
       "      <td>Gigondas (Nobles Terrasses) 2017</td>\n",
       "      <td>France</td>\n",
       "      <td>Gigondas</td>\n",
       "      <td>Vieux Clocher</td>\n",
       "      <td>3.7</td>\n",
       "      <td>100</td>\n",
       "      <td>19.90</td>\n",
       "      <td>2017</td>\n",
       "    </tr>\n",
       "    <tr>\n",
       "      <th>12</th>\n",
       "      <td>Les Obriers de la Peira Terrasses du Larzac 2017</td>\n",
       "      <td>France</td>\n",
       "      <td>Terrasses du Larzac</td>\n",
       "      <td>La Pèira en Damaisèla</td>\n",
       "      <td>4.1</td>\n",
       "      <td>100</td>\n",
       "      <td>14.52</td>\n",
       "      <td>2017</td>\n",
       "    </tr>\n",
       "    <tr>\n",
       "      <th>14</th>\n",
       "      <td>Cuvée Confidence Côtes du Rhône Rouge 2017</td>\n",
       "      <td>France</td>\n",
       "      <td>Côtes-du-Rhône</td>\n",
       "      <td>Domaine Fond Croze</td>\n",
       "      <td>3.7</td>\n",
       "      <td>100</td>\n",
       "      <td>8.49</td>\n",
       "      <td>2017</td>\n",
       "    </tr>\n",
       "    <tr>\n",
       "      <th>30</th>\n",
       "      <td>Hécula Monastrell 2017</td>\n",
       "      <td>Spain</td>\n",
       "      <td>Yecla</td>\n",
       "      <td>Castaño</td>\n",
       "      <td>3.3</td>\n",
       "      <td>1004</td>\n",
       "      <td>8.83</td>\n",
       "      <td>2017</td>\n",
       "    </tr>\n",
       "    <tr>\n",
       "      <th>...</th>\n",
       "      <td>...</td>\n",
       "      <td>...</td>\n",
       "      <td>...</td>\n",
       "      <td>...</td>\n",
       "      <td>...</td>\n",
       "      <td>...</td>\n",
       "      <td>...</td>\n",
       "      <td>...</td>\n",
       "    </tr>\n",
       "    <tr>\n",
       "      <th>8631</th>\n",
       "      <td>Valpolicella Ripasso Superiore 2017</td>\n",
       "      <td>Italy</td>\n",
       "      <td>Valpolicella Ripasso</td>\n",
       "      <td>Cecilia Beretta</td>\n",
       "      <td>3.9</td>\n",
       "      <td>983</td>\n",
       "      <td>12.80</td>\n",
       "      <td>2017</td>\n",
       "    </tr>\n",
       "    <tr>\n",
       "      <th>8640</th>\n",
       "      <td>Colheita Red 2017</td>\n",
       "      <td>Portugal</td>\n",
       "      <td>Douro</td>\n",
       "      <td>Quinta do Portal</td>\n",
       "      <td>3.9</td>\n",
       "      <td>99</td>\n",
       "      <td>12.50</td>\n",
       "      <td>2017</td>\n",
       "    </tr>\n",
       "    <tr>\n",
       "      <th>8648</th>\n",
       "      <td>Blu Onice Aglianico Irpinia 2017</td>\n",
       "      <td>Italy</td>\n",
       "      <td>Irpinia</td>\n",
       "      <td>Nativ</td>\n",
       "      <td>4.2</td>\n",
       "      <td>99</td>\n",
       "      <td>16.50</td>\n",
       "      <td>2017</td>\n",
       "    </tr>\n",
       "    <tr>\n",
       "      <th>8655</th>\n",
       "      <td>Côtes du Rhône 'Les Cranilles' 2017</td>\n",
       "      <td>France</td>\n",
       "      <td>Côtes-du-Rhône</td>\n",
       "      <td>Les Vins de Vienne - Cuilleron-Gaillard-Villard</td>\n",
       "      <td>3.7</td>\n",
       "      <td>99</td>\n",
       "      <td>10.50</td>\n",
       "      <td>2017</td>\n",
       "    </tr>\n",
       "    <tr>\n",
       "      <th>8656</th>\n",
       "      <td>Legato Merlot - Cabernet Sauvignon 2017</td>\n",
       "      <td>South Africa</td>\n",
       "      <td>Stellenbosch</td>\n",
       "      <td>Anura</td>\n",
       "      <td>3.8</td>\n",
       "      <td>99</td>\n",
       "      <td>11.60</td>\n",
       "      <td>2017</td>\n",
       "    </tr>\n",
       "  </tbody>\n",
       "</table>\n",
       "<p>1558 rows × 8 columns</p>\n",
       "</div>"
      ],
      "text/plain": [
       "                                                  Name       Country  \\\n",
       "1                                           Lirac 2017        France   \n",
       "5                     Gigondas (Nobles Terrasses) 2017        France   \n",
       "12    Les Obriers de la Peira Terrasses du Larzac 2017        France   \n",
       "14          Cuvée Confidence Côtes du Rhône Rouge 2017        France   \n",
       "30                              Hécula Monastrell 2017         Spain   \n",
       "...                                                ...           ...   \n",
       "8631               Valpolicella Ripasso Superiore 2017         Italy   \n",
       "8640                                 Colheita Red 2017      Portugal   \n",
       "8648                  Blu Onice Aglianico Irpinia 2017         Italy   \n",
       "8655               Côtes du Rhône 'Les Cranilles' 2017        France   \n",
       "8656           Legato Merlot - Cabernet Sauvignon 2017  South Africa   \n",
       "\n",
       "                    Region                                           Winery  \\\n",
       "1                    Lirac                               Château Mont-Redon   \n",
       "5                 Gigondas                                    Vieux Clocher   \n",
       "12     Terrasses du Larzac                            La Pèira en Damaisèla   \n",
       "14          Côtes-du-Rhône                               Domaine Fond Croze   \n",
       "30                   Yecla                                          Castaño   \n",
       "...                    ...                                              ...   \n",
       "8631  Valpolicella Ripasso                                  Cecilia Beretta   \n",
       "8640                 Douro                                 Quinta do Portal   \n",
       "8648               Irpinia                                            Nativ   \n",
       "8655        Côtes-du-Rhône  Les Vins de Vienne - Cuilleron-Gaillard-Villard   \n",
       "8656          Stellenbosch                                            Anura   \n",
       "\n",
       "      Rating  NumberOfRatings  Price  Year  \n",
       "1        4.3              100  15.50  2017  \n",
       "5        3.7              100  19.90  2017  \n",
       "12       4.1              100  14.52  2017  \n",
       "14       3.7              100   8.49  2017  \n",
       "30       3.3             1004   8.83  2017  \n",
       "...      ...              ...    ...   ...  \n",
       "8631     3.9              983  12.80  2017  \n",
       "8640     3.9               99  12.50  2017  \n",
       "8648     4.2               99  16.50  2017  \n",
       "8655     3.7               99  10.50  2017  \n",
       "8656     3.8               99  11.60  2017  \n",
       "\n",
       "[1558 rows x 8 columns]"
      ]
     },
     "execution_count": 11,
     "metadata": {},
     "output_type": "execute_result"
    }
   ],
   "source": [
    "wine[wine['Year'] == '2017']  #выведем количество вин 2017 года"
   ]
  },
  {
   "cell_type": "markdown",
   "id": "f68f4f60",
   "metadata": {},
   "source": [
    "В 2017 году было 1558 вин "
   ]
  },
  {
   "cell_type": "code",
   "execution_count": 12,
   "id": "ce52fa63",
   "metadata": {},
   "outputs": [
    {
     "data": {
      "text/plain": [
       "(1061, 8)"
      ]
     },
     "execution_count": 12,
     "metadata": {},
     "output_type": "execute_result"
    }
   ],
   "source": [
    "wine[(wine['Country'] == 'France') & (wine['Rating'] >= 4)].shape  #выведем количество французских вин с рейтингом больше 4"
   ]
  },
  {
   "cell_type": "code",
   "execution_count": 13,
   "id": "577493b6",
   "metadata": {},
   "outputs": [
    {
     "data": {
      "text/plain": [
       "(1207, 8)"
      ]
     },
     "execution_count": 13,
     "metadata": {},
     "output_type": "execute_result"
    }
   ],
   "source": [
    "wine[(wine['Country'] == 'Italy') & (wine['Rating'] >= 4)].shape  #выведем количество итальянских вин с рейтингом больше 4"
   ]
  },
  {
   "cell_type": "markdown",
   "id": "bac52104",
   "metadata": {},
   "source": [
    "Можно сделать вывод, что вин с рейтингом выше 4 больше в Италии, чем во Франции"
   ]
  },
  {
   "cell_type": "code",
   "execution_count": 14,
   "id": "7d1fcf22",
   "metadata": {},
   "outputs": [
    {
     "data": {
      "text/html": [
       "<div>\n",
       "<style scoped>\n",
       "    .dataframe tbody tr th:only-of-type {\n",
       "        vertical-align: middle;\n",
       "    }\n",
       "\n",
       "    .dataframe tbody tr th {\n",
       "        vertical-align: top;\n",
       "    }\n",
       "\n",
       "    .dataframe thead th {\n",
       "        text-align: right;\n",
       "    }\n",
       "</style>\n",
       "<table border=\"1\" class=\"dataframe\">\n",
       "  <thead>\n",
       "    <tr style=\"text-align: right;\">\n",
       "      <th></th>\n",
       "      <th>Name</th>\n",
       "      <th>Country</th>\n",
       "      <th>Region</th>\n",
       "      <th>Winery</th>\n",
       "      <th>Rating</th>\n",
       "      <th>NumberOfRatings</th>\n",
       "      <th>Price</th>\n",
       "      <th>Year</th>\n",
       "    </tr>\n",
       "  </thead>\n",
       "  <tbody>\n",
       "    <tr>\n",
       "      <th>43</th>\n",
       "      <td>Roma Rosso 2018</td>\n",
       "      <td>Italy</td>\n",
       "      <td>Lazio</td>\n",
       "      <td>Poggio le Volpi</td>\n",
       "      <td>4.0</td>\n",
       "      <td>101</td>\n",
       "      <td>9.95</td>\n",
       "      <td>2018</td>\n",
       "    </tr>\n",
       "    <tr>\n",
       "      <th>116</th>\n",
       "      <td>Peyres Nobles Rouge 2018</td>\n",
       "      <td>France</td>\n",
       "      <td>Corbières</td>\n",
       "      <td>Château Camplong</td>\n",
       "      <td>4.0</td>\n",
       "      <td>103</td>\n",
       "      <td>6.50</td>\n",
       "      <td>2018</td>\n",
       "    </tr>\n",
       "    <tr>\n",
       "      <th>135</th>\n",
       "      <td>Gran Maestro Primitivo di Manduria 2017</td>\n",
       "      <td>Italy</td>\n",
       "      <td>Primitivo di Manduria</td>\n",
       "      <td>Maestro Italiano</td>\n",
       "      <td>4.1</td>\n",
       "      <td>1036</td>\n",
       "      <td>9.75</td>\n",
       "      <td>2017</td>\n",
       "    </tr>\n",
       "    <tr>\n",
       "      <th>291</th>\n",
       "      <td>Primitivo di Manduria 2018</td>\n",
       "      <td>Italy</td>\n",
       "      <td>Primitivo di Manduria</td>\n",
       "      <td>Terre di Campo Sasso</td>\n",
       "      <td>4.1</td>\n",
       "      <td>108</td>\n",
       "      <td>8.28</td>\n",
       "      <td>2018</td>\n",
       "    </tr>\n",
       "    <tr>\n",
       "      <th>302</th>\n",
       "      <td>Rondeur Appassimento 2018</td>\n",
       "      <td>France</td>\n",
       "      <td>Pays d'Oc</td>\n",
       "      <td>Domaine La Grange</td>\n",
       "      <td>4.2</td>\n",
       "      <td>108</td>\n",
       "      <td>9.37</td>\n",
       "      <td>2018</td>\n",
       "    </tr>\n",
       "    <tr>\n",
       "      <th>...</th>\n",
       "      <td>...</td>\n",
       "      <td>...</td>\n",
       "      <td>...</td>\n",
       "      <td>...</td>\n",
       "      <td>...</td>\n",
       "      <td>...</td>\n",
       "      <td>...</td>\n",
       "      <td>...</td>\n",
       "    </tr>\n",
       "    <tr>\n",
       "      <th>8181</th>\n",
       "      <td>Barrica 2016</td>\n",
       "      <td>Spain</td>\n",
       "      <td>Cigales</td>\n",
       "      <td>El Perdiguero</td>\n",
       "      <td>4.0</td>\n",
       "      <td>87</td>\n",
       "      <td>7.45</td>\n",
       "      <td>2016</td>\n",
       "    </tr>\n",
       "    <tr>\n",
       "      <th>8291</th>\n",
       "      <td>Mandus Primitivo di Manduria 2018</td>\n",
       "      <td>Italy</td>\n",
       "      <td>Primitivo di Manduria</td>\n",
       "      <td>Pietra Pura</td>\n",
       "      <td>4.0</td>\n",
       "      <td>90</td>\n",
       "      <td>7.63</td>\n",
       "      <td>2018</td>\n",
       "    </tr>\n",
       "    <tr>\n",
       "      <th>8357</th>\n",
       "      <td>Papale Primitivo di Manduria 2017</td>\n",
       "      <td>Italy</td>\n",
       "      <td>Primitivo di Manduria</td>\n",
       "      <td>Varvaglione</td>\n",
       "      <td>4.0</td>\n",
       "      <td>913</td>\n",
       "      <td>9.70</td>\n",
       "      <td>2017</td>\n",
       "    </tr>\n",
       "    <tr>\n",
       "      <th>8464</th>\n",
       "      <td>Primitivo di Manduria 2018</td>\n",
       "      <td>Italy</td>\n",
       "      <td>Primitivo di Manduria</td>\n",
       "      <td>Menhir</td>\n",
       "      <td>4.0</td>\n",
       "      <td>94</td>\n",
       "      <td>7.58</td>\n",
       "      <td>2018</td>\n",
       "    </tr>\n",
       "    <tr>\n",
       "      <th>8567</th>\n",
       "      <td>Bordeaux 2018</td>\n",
       "      <td>France</td>\n",
       "      <td>Bordeaux</td>\n",
       "      <td>Château Bréjou</td>\n",
       "      <td>4.1</td>\n",
       "      <td>97</td>\n",
       "      <td>9.95</td>\n",
       "      <td>2018</td>\n",
       "    </tr>\n",
       "  </tbody>\n",
       "</table>\n",
       "<p>125 rows × 8 columns</p>\n",
       "</div>"
      ],
      "text/plain": [
       "                                         Name Country                 Region  \\\n",
       "43                            Roma Rosso 2018   Italy                  Lazio   \n",
       "116                  Peyres Nobles Rouge 2018  France              Corbières   \n",
       "135   Gran Maestro Primitivo di Manduria 2017   Italy  Primitivo di Manduria   \n",
       "291                Primitivo di Manduria 2018   Italy  Primitivo di Manduria   \n",
       "302                 Rondeur Appassimento 2018  France              Pays d'Oc   \n",
       "...                                       ...     ...                    ...   \n",
       "8181                             Barrica 2016   Spain                Cigales   \n",
       "8291        Mandus Primitivo di Manduria 2018   Italy  Primitivo di Manduria   \n",
       "8357        Papale Primitivo di Manduria 2017   Italy  Primitivo di Manduria   \n",
       "8464               Primitivo di Manduria 2018   Italy  Primitivo di Manduria   \n",
       "8567                            Bordeaux 2018  France               Bordeaux   \n",
       "\n",
       "                    Winery  Rating  NumberOfRatings  Price  Year  \n",
       "43         Poggio le Volpi     4.0              101   9.95  2018  \n",
       "116       Château Camplong     4.0              103   6.50  2018  \n",
       "135       Maestro Italiano     4.1             1036   9.75  2017  \n",
       "291   Terre di Campo Sasso     4.1              108   8.28  2018  \n",
       "302      Domaine La Grange     4.2              108   9.37  2018  \n",
       "...                    ...     ...              ...    ...   ...  \n",
       "8181         El Perdiguero     4.0               87   7.45  2016  \n",
       "8291           Pietra Pura     4.0               90   7.63  2018  \n",
       "8357           Varvaglione     4.0              913   9.70  2017  \n",
       "8464                Menhir     4.0               94   7.58  2018  \n",
       "8567        Château Bréjou     4.1               97   9.95  2018  \n",
       "\n",
       "[125 rows x 8 columns]"
      ]
     },
     "execution_count": 14,
     "metadata": {},
     "output_type": "execute_result"
    }
   ],
   "source": [
    "wine[(wine['Rating'] >= 4) & (wine['Price'] <= 10)]  #выведем количество хороших и недорогих вин"
   ]
  },
  {
   "cell_type": "code",
   "execution_count": 15,
   "id": "120eb992",
   "metadata": {},
   "outputs": [
    {
     "data": {
      "text/html": [
       "<div>\n",
       "<style scoped>\n",
       "    .dataframe tbody tr th:only-of-type {\n",
       "        vertical-align: middle;\n",
       "    }\n",
       "\n",
       "    .dataframe tbody tr th {\n",
       "        vertical-align: top;\n",
       "    }\n",
       "\n",
       "    .dataframe thead th {\n",
       "        text-align: right;\n",
       "    }\n",
       "</style>\n",
       "<table border=\"1\" class=\"dataframe\">\n",
       "  <thead>\n",
       "    <tr style=\"text-align: right;\">\n",
       "      <th></th>\n",
       "      <th>Name</th>\n",
       "      <th>Country</th>\n",
       "      <th>Region</th>\n",
       "      <th>Winery</th>\n",
       "      <th>Rating</th>\n",
       "      <th>NumberOfRatings</th>\n",
       "      <th>Price</th>\n",
       "      <th>Year</th>\n",
       "    </tr>\n",
       "  </thead>\n",
       "  <tbody>\n",
       "    <tr>\n",
       "      <th>43</th>\n",
       "      <td>Roma Rosso 2018</td>\n",
       "      <td>Italy</td>\n",
       "      <td>Lazio</td>\n",
       "      <td>Poggio le Volpi</td>\n",
       "      <td>4.0</td>\n",
       "      <td>101</td>\n",
       "      <td>9.95</td>\n",
       "      <td>2018</td>\n",
       "    </tr>\n",
       "    <tr>\n",
       "      <th>135</th>\n",
       "      <td>Gran Maestro Primitivo di Manduria 2017</td>\n",
       "      <td>Italy</td>\n",
       "      <td>Primitivo di Manduria</td>\n",
       "      <td>Maestro Italiano</td>\n",
       "      <td>4.1</td>\n",
       "      <td>1036</td>\n",
       "      <td>9.75</td>\n",
       "      <td>2017</td>\n",
       "    </tr>\n",
       "    <tr>\n",
       "      <th>291</th>\n",
       "      <td>Primitivo di Manduria 2018</td>\n",
       "      <td>Italy</td>\n",
       "      <td>Primitivo di Manduria</td>\n",
       "      <td>Terre di Campo Sasso</td>\n",
       "      <td>4.1</td>\n",
       "      <td>108</td>\n",
       "      <td>8.28</td>\n",
       "      <td>2018</td>\n",
       "    </tr>\n",
       "    <tr>\n",
       "      <th>449</th>\n",
       "      <td>Bel Noce Primitivo 2017</td>\n",
       "      <td>Italy</td>\n",
       "      <td>Salento</td>\n",
       "      <td>Cantina Rosa del Golfo</td>\n",
       "      <td>4.2</td>\n",
       "      <td>113</td>\n",
       "      <td>9.78</td>\n",
       "      <td>2017</td>\n",
       "    </tr>\n",
       "    <tr>\n",
       "      <th>766</th>\n",
       "      <td>Primitivo Salento Pilùna 2018</td>\n",
       "      <td>Italy</td>\n",
       "      <td>Salento</td>\n",
       "      <td>Castello Monaci</td>\n",
       "      <td>4.0</td>\n",
       "      <td>1247</td>\n",
       "      <td>6.90</td>\n",
       "      <td>2018</td>\n",
       "    </tr>\n",
       "    <tr>\n",
       "      <th>...</th>\n",
       "      <td>...</td>\n",
       "      <td>...</td>\n",
       "      <td>...</td>\n",
       "      <td>...</td>\n",
       "      <td>...</td>\n",
       "      <td>...</td>\n",
       "      <td>...</td>\n",
       "      <td>...</td>\n",
       "    </tr>\n",
       "    <tr>\n",
       "      <th>7844</th>\n",
       "      <td>3 Passo Rosso 2018</td>\n",
       "      <td>Italy</td>\n",
       "      <td>Vino d'Italia</td>\n",
       "      <td>Cielo e Terra</td>\n",
       "      <td>4.0</td>\n",
       "      <td>794</td>\n",
       "      <td>7.90</td>\n",
       "      <td>2018</td>\n",
       "    </tr>\n",
       "    <tr>\n",
       "      <th>8026</th>\n",
       "      <td>Appassite Negroamaro - Primitivo 2019</td>\n",
       "      <td>Italy</td>\n",
       "      <td>Puglia</td>\n",
       "      <td>Luna Argenta</td>\n",
       "      <td>4.0</td>\n",
       "      <td>84</td>\n",
       "      <td>7.52</td>\n",
       "      <td>2019</td>\n",
       "    </tr>\n",
       "    <tr>\n",
       "      <th>8291</th>\n",
       "      <td>Mandus Primitivo di Manduria 2018</td>\n",
       "      <td>Italy</td>\n",
       "      <td>Primitivo di Manduria</td>\n",
       "      <td>Pietra Pura</td>\n",
       "      <td>4.0</td>\n",
       "      <td>90</td>\n",
       "      <td>7.63</td>\n",
       "      <td>2018</td>\n",
       "    </tr>\n",
       "    <tr>\n",
       "      <th>8357</th>\n",
       "      <td>Papale Primitivo di Manduria 2017</td>\n",
       "      <td>Italy</td>\n",
       "      <td>Primitivo di Manduria</td>\n",
       "      <td>Varvaglione</td>\n",
       "      <td>4.0</td>\n",
       "      <td>913</td>\n",
       "      <td>9.70</td>\n",
       "      <td>2017</td>\n",
       "    </tr>\n",
       "    <tr>\n",
       "      <th>8464</th>\n",
       "      <td>Primitivo di Manduria 2018</td>\n",
       "      <td>Italy</td>\n",
       "      <td>Primitivo di Manduria</td>\n",
       "      <td>Menhir</td>\n",
       "      <td>4.0</td>\n",
       "      <td>94</td>\n",
       "      <td>7.58</td>\n",
       "      <td>2018</td>\n",
       "    </tr>\n",
       "  </tbody>\n",
       "</table>\n",
       "<p>73 rows × 8 columns</p>\n",
       "</div>"
      ],
      "text/plain": [
       "                                         Name Country                 Region  \\\n",
       "43                            Roma Rosso 2018   Italy                  Lazio   \n",
       "135   Gran Maestro Primitivo di Manduria 2017   Italy  Primitivo di Manduria   \n",
       "291                Primitivo di Manduria 2018   Italy  Primitivo di Manduria   \n",
       "449                   Bel Noce Primitivo 2017   Italy                Salento   \n",
       "766             Primitivo Salento Pilùna 2018   Italy                Salento   \n",
       "...                                       ...     ...                    ...   \n",
       "7844                       3 Passo Rosso 2018   Italy          Vino d'Italia   \n",
       "8026    Appassite Negroamaro - Primitivo 2019   Italy                 Puglia   \n",
       "8291        Mandus Primitivo di Manduria 2018   Italy  Primitivo di Manduria   \n",
       "8357        Papale Primitivo di Manduria 2017   Italy  Primitivo di Manduria   \n",
       "8464               Primitivo di Manduria 2018   Italy  Primitivo di Manduria   \n",
       "\n",
       "                      Winery  Rating  NumberOfRatings  Price  Year  \n",
       "43           Poggio le Volpi     4.0              101   9.95  2018  \n",
       "135         Maestro Italiano     4.1             1036   9.75  2017  \n",
       "291     Terre di Campo Sasso     4.1              108   8.28  2018  \n",
       "449   Cantina Rosa del Golfo     4.2              113   9.78  2017  \n",
       "766          Castello Monaci     4.0             1247   6.90  2018  \n",
       "...                      ...     ...              ...    ...   ...  \n",
       "7844           Cielo e Terra     4.0              794   7.90  2018  \n",
       "8026            Luna Argenta     4.0               84   7.52  2019  \n",
       "8291             Pietra Pura     4.0               90   7.63  2018  \n",
       "8357             Varvaglione     4.0              913   9.70  2017  \n",
       "8464                  Menhir     4.0               94   7.58  2018  \n",
       "\n",
       "[73 rows x 8 columns]"
      ]
     },
     "execution_count": 15,
     "metadata": {},
     "output_type": "execute_result"
    }
   ],
   "source": [
    "wine[(wine['Rating'] >= 4) & (wine['Price'] <= 10) & (wine['Country'] == 'Italy')]  \n",
    "#выведем количество хороших и недорогих итальянских вин"
   ]
  },
  {
   "cell_type": "markdown",
   "id": "8bb29265",
   "metadata": {},
   "source": [
    "**Хороших и недорогих итальянских вин всего 73.** \n",
    "Под хорошими винами подразумеваются вина с рейтингом больше 4, под недорогими винами - стоимость меньше 10"
   ]
  },
  {
   "cell_type": "code",
   "execution_count": 16,
   "id": "2d4be72d",
   "metadata": {},
   "outputs": [
    {
     "data": {
      "text/plain": [
       "3420    4.8\n",
       "3747    4.8\n",
       "8086    4.8\n",
       "4031    4.8\n",
       "951     4.8\n",
       "       ... \n",
       "7091    2.8\n",
       "4542    2.7\n",
       "4176    2.6\n",
       "4998    2.5\n",
       "6335    2.5\n",
       "Name: Rating, Length: 8666, dtype: float64"
      ]
     },
     "execution_count": 16,
     "metadata": {},
     "output_type": "execute_result"
    }
   ],
   "source": [
    "wine['Rating'].sort_values(ascending = False) #отсортируем данные по убыванию рейтинга"
   ]
  },
  {
   "cell_type": "markdown",
   "id": "f290dd39",
   "metadata": {},
   "source": [
    "Можем сделать вывод, что максимальная оценка вина 4.8, а минимальная 2.5"
   ]
  },
  {
   "cell_type": "code",
   "execution_count": 17,
   "id": "2c792084",
   "metadata": {},
   "outputs": [
    {
     "data": {
      "text/plain": [
       "2344    3410.79\n",
       "7466    1599.95\n",
       "5560    1399.00\n",
       "4395    1266.25\n",
       "4124    1197.90\n",
       "         ...   \n",
       "7821       3.99\n",
       "108        3.95\n",
       "6408       3.79\n",
       "2938       3.70\n",
       "5423       3.55\n",
       "Name: Price, Length: 8666, dtype: float64"
      ]
     },
     "execution_count": 17,
     "metadata": {},
     "output_type": "execute_result"
    }
   ],
   "source": [
    "wine['Price'].sort_values(ascending = False) #отсортируем данные по убыванию цены"
   ]
  },
  {
   "cell_type": "markdown",
   "id": "971d8500",
   "metadata": {},
   "source": [
    "Можем сделать вывод, что максимальная стоимость вина 3410.79, а минимальная 3.55"
   ]
  },
  {
   "cell_type": "markdown",
   "id": "7cfcefcb",
   "metadata": {},
   "source": [
    "**Далее добавим дополнительные переменные**"
   ]
  },
  {
   "cell_type": "code",
   "execution_count": 18,
   "id": "dbe8a957",
   "metadata": {},
   "outputs": [],
   "source": [
    "def get_rating_cat (rating):    #прописываем функцию для добавления новых переменных\n",
    "    if rating >= 4.5:\n",
    "        return 'Great'\n",
    "    elif rating >= 4.0:\n",
    "        return 'Good'\n",
    "    elif rating >= 3.2:\n",
    "        return 'Mediocre'\n",
    "    elif rating >= 2.5:\n",
    "        return 'Not recommended'"
   ]
  },
  {
   "cell_type": "code",
   "execution_count": 19,
   "id": "6726491b",
   "metadata": {},
   "outputs": [],
   "source": [
    "wine['Rating Category'] = wine['Rating'].apply(get_rating_cat)  #создаем новую переменную Rating Category"
   ]
  },
  {
   "cell_type": "code",
   "execution_count": 20,
   "id": "914847e7",
   "metadata": {},
   "outputs": [
    {
     "data": {
      "text/html": [
       "<div>\n",
       "<style scoped>\n",
       "    .dataframe tbody tr th:only-of-type {\n",
       "        vertical-align: middle;\n",
       "    }\n",
       "\n",
       "    .dataframe tbody tr th {\n",
       "        vertical-align: top;\n",
       "    }\n",
       "\n",
       "    .dataframe thead th {\n",
       "        text-align: right;\n",
       "    }\n",
       "</style>\n",
       "<table border=\"1\" class=\"dataframe\">\n",
       "  <thead>\n",
       "    <tr style=\"text-align: right;\">\n",
       "      <th></th>\n",
       "      <th>Name</th>\n",
       "      <th>Country</th>\n",
       "      <th>Region</th>\n",
       "      <th>Winery</th>\n",
       "      <th>Rating</th>\n",
       "      <th>NumberOfRatings</th>\n",
       "      <th>Price</th>\n",
       "      <th>Year</th>\n",
       "      <th>Rating Category</th>\n",
       "    </tr>\n",
       "  </thead>\n",
       "  <tbody>\n",
       "    <tr>\n",
       "      <th>0</th>\n",
       "      <td>Pomerol 2011</td>\n",
       "      <td>France</td>\n",
       "      <td>Pomerol</td>\n",
       "      <td>Château La Providence</td>\n",
       "      <td>4.2</td>\n",
       "      <td>100</td>\n",
       "      <td>95.00</td>\n",
       "      <td>2011</td>\n",
       "      <td>Good</td>\n",
       "    </tr>\n",
       "    <tr>\n",
       "      <th>1</th>\n",
       "      <td>Lirac 2017</td>\n",
       "      <td>France</td>\n",
       "      <td>Lirac</td>\n",
       "      <td>Château Mont-Redon</td>\n",
       "      <td>4.3</td>\n",
       "      <td>100</td>\n",
       "      <td>15.50</td>\n",
       "      <td>2017</td>\n",
       "      <td>Good</td>\n",
       "    </tr>\n",
       "    <tr>\n",
       "      <th>2</th>\n",
       "      <td>Erta e China Rosso di Toscana 2015</td>\n",
       "      <td>Italy</td>\n",
       "      <td>Toscana</td>\n",
       "      <td>Renzo Masi</td>\n",
       "      <td>3.9</td>\n",
       "      <td>100</td>\n",
       "      <td>7.45</td>\n",
       "      <td>2015</td>\n",
       "      <td>Mediocre</td>\n",
       "    </tr>\n",
       "    <tr>\n",
       "      <th>3</th>\n",
       "      <td>Bardolino 2019</td>\n",
       "      <td>Italy</td>\n",
       "      <td>Bardolino</td>\n",
       "      <td>Cavalchina</td>\n",
       "      <td>3.5</td>\n",
       "      <td>100</td>\n",
       "      <td>8.72</td>\n",
       "      <td>2019</td>\n",
       "      <td>Mediocre</td>\n",
       "    </tr>\n",
       "    <tr>\n",
       "      <th>4</th>\n",
       "      <td>Ried Scheibner Pinot Noir 2016</td>\n",
       "      <td>Austria</td>\n",
       "      <td>Carnuntum</td>\n",
       "      <td>Markowitsch</td>\n",
       "      <td>3.9</td>\n",
       "      <td>100</td>\n",
       "      <td>29.15</td>\n",
       "      <td>2016</td>\n",
       "      <td>Mediocre</td>\n",
       "    </tr>\n",
       "  </tbody>\n",
       "</table>\n",
       "</div>"
      ],
      "text/plain": [
       "                                 Name  Country     Region  \\\n",
       "0                        Pomerol 2011   France    Pomerol   \n",
       "1                          Lirac 2017   France      Lirac   \n",
       "2  Erta e China Rosso di Toscana 2015    Italy    Toscana   \n",
       "3                      Bardolino 2019    Italy  Bardolino   \n",
       "4      Ried Scheibner Pinot Noir 2016  Austria  Carnuntum   \n",
       "\n",
       "                  Winery  Rating  NumberOfRatings  Price  Year Rating Category  \n",
       "0  Château La Providence     4.2              100  95.00  2011            Good  \n",
       "1     Château Mont-Redon     4.3              100  15.50  2017            Good  \n",
       "2             Renzo Masi     3.9              100   7.45  2015        Mediocre  \n",
       "3             Cavalchina     3.5              100   8.72  2019        Mediocre  \n",
       "4            Markowitsch     3.9              100  29.15  2016        Mediocre  "
      ]
     },
     "execution_count": 20,
     "metadata": {},
     "output_type": "execute_result"
    }
   ],
   "source": [
    "wine.head()"
   ]
  },
  {
   "cell_type": "markdown",
   "id": "25bca47a",
   "metadata": {},
   "source": [
    "Новая переменная Rating Category (категория рейтинга) позволит анализировать рейтинг вина относительно других показателей. Данные были разбиты на 4 категории: если рейтинг был выше или равен 4.5, то присваивалась категория **\"Great\"**; если рейтинг от 4.0 до 4.4, то присваивался рейтинг **\"Good\"**; категория **\"Mediocre\"** проставлялась при рейтинге от 3.2 до 3.9; при рейтинге меньше 3.2 - категория **\"Not recommended\"**"
   ]
  },
  {
   "cell_type": "code",
   "execution_count": 21,
   "id": "83fc0330",
   "metadata": {},
   "outputs": [],
   "source": [
    "def get_price_cat (price):    #прописываем функцию для добавления новых переменных\n",
    "    if price <= 20:\n",
    "        return 'Low'\n",
    "    elif price <= 250:\n",
    "        return 'Medium'\n",
    "    elif price > 250:\n",
    "        return 'High'"
   ]
  },
  {
   "cell_type": "code",
   "execution_count": 22,
   "id": "634f881a",
   "metadata": {},
   "outputs": [],
   "source": [
    "wine['Price Category'] = wine['Price'].apply(get_price_cat)  #создаем новую переменную Price Category"
   ]
  },
  {
   "cell_type": "code",
   "execution_count": 23,
   "id": "c677ef7c",
   "metadata": {},
   "outputs": [
    {
     "data": {
      "text/html": [
       "<div>\n",
       "<style scoped>\n",
       "    .dataframe tbody tr th:only-of-type {\n",
       "        vertical-align: middle;\n",
       "    }\n",
       "\n",
       "    .dataframe tbody tr th {\n",
       "        vertical-align: top;\n",
       "    }\n",
       "\n",
       "    .dataframe thead th {\n",
       "        text-align: right;\n",
       "    }\n",
       "</style>\n",
       "<table border=\"1\" class=\"dataframe\">\n",
       "  <thead>\n",
       "    <tr style=\"text-align: right;\">\n",
       "      <th></th>\n",
       "      <th>Name</th>\n",
       "      <th>Country</th>\n",
       "      <th>Region</th>\n",
       "      <th>Winery</th>\n",
       "      <th>Rating</th>\n",
       "      <th>NumberOfRatings</th>\n",
       "      <th>Price</th>\n",
       "      <th>Year</th>\n",
       "      <th>Rating Category</th>\n",
       "      <th>Price Category</th>\n",
       "    </tr>\n",
       "  </thead>\n",
       "  <tbody>\n",
       "    <tr>\n",
       "      <th>0</th>\n",
       "      <td>Pomerol 2011</td>\n",
       "      <td>France</td>\n",
       "      <td>Pomerol</td>\n",
       "      <td>Château La Providence</td>\n",
       "      <td>4.2</td>\n",
       "      <td>100</td>\n",
       "      <td>95.00</td>\n",
       "      <td>2011</td>\n",
       "      <td>Good</td>\n",
       "      <td>Medium</td>\n",
       "    </tr>\n",
       "    <tr>\n",
       "      <th>1</th>\n",
       "      <td>Lirac 2017</td>\n",
       "      <td>France</td>\n",
       "      <td>Lirac</td>\n",
       "      <td>Château Mont-Redon</td>\n",
       "      <td>4.3</td>\n",
       "      <td>100</td>\n",
       "      <td>15.50</td>\n",
       "      <td>2017</td>\n",
       "      <td>Good</td>\n",
       "      <td>Low</td>\n",
       "    </tr>\n",
       "    <tr>\n",
       "      <th>2</th>\n",
       "      <td>Erta e China Rosso di Toscana 2015</td>\n",
       "      <td>Italy</td>\n",
       "      <td>Toscana</td>\n",
       "      <td>Renzo Masi</td>\n",
       "      <td>3.9</td>\n",
       "      <td>100</td>\n",
       "      <td>7.45</td>\n",
       "      <td>2015</td>\n",
       "      <td>Mediocre</td>\n",
       "      <td>Low</td>\n",
       "    </tr>\n",
       "    <tr>\n",
       "      <th>3</th>\n",
       "      <td>Bardolino 2019</td>\n",
       "      <td>Italy</td>\n",
       "      <td>Bardolino</td>\n",
       "      <td>Cavalchina</td>\n",
       "      <td>3.5</td>\n",
       "      <td>100</td>\n",
       "      <td>8.72</td>\n",
       "      <td>2019</td>\n",
       "      <td>Mediocre</td>\n",
       "      <td>Low</td>\n",
       "    </tr>\n",
       "    <tr>\n",
       "      <th>4</th>\n",
       "      <td>Ried Scheibner Pinot Noir 2016</td>\n",
       "      <td>Austria</td>\n",
       "      <td>Carnuntum</td>\n",
       "      <td>Markowitsch</td>\n",
       "      <td>3.9</td>\n",
       "      <td>100</td>\n",
       "      <td>29.15</td>\n",
       "      <td>2016</td>\n",
       "      <td>Mediocre</td>\n",
       "      <td>Medium</td>\n",
       "    </tr>\n",
       "  </tbody>\n",
       "</table>\n",
       "</div>"
      ],
      "text/plain": [
       "                                 Name  Country     Region  \\\n",
       "0                        Pomerol 2011   France    Pomerol   \n",
       "1                          Lirac 2017   France      Lirac   \n",
       "2  Erta e China Rosso di Toscana 2015    Italy    Toscana   \n",
       "3                      Bardolino 2019    Italy  Bardolino   \n",
       "4      Ried Scheibner Pinot Noir 2016  Austria  Carnuntum   \n",
       "\n",
       "                  Winery  Rating  NumberOfRatings  Price  Year  \\\n",
       "0  Château La Providence     4.2              100  95.00  2011   \n",
       "1     Château Mont-Redon     4.3              100  15.50  2017   \n",
       "2             Renzo Masi     3.9              100   7.45  2015   \n",
       "3             Cavalchina     3.5              100   8.72  2019   \n",
       "4            Markowitsch     3.9              100  29.15  2016   \n",
       "\n",
       "  Rating Category Price Category  \n",
       "0            Good         Medium  \n",
       "1            Good            Low  \n",
       "2        Mediocre            Low  \n",
       "3        Mediocre            Low  \n",
       "4        Mediocre         Medium  "
      ]
     },
     "execution_count": 23,
     "metadata": {},
     "output_type": "execute_result"
    }
   ],
   "source": [
    "wine.head()"
   ]
  },
  {
   "cell_type": "markdown",
   "id": "76321a8d",
   "metadata": {},
   "source": [
    "Новая переменная Price Category (категория цены) позволит анализировать рейтинг вина относительно других показателей. Данные были разбиты на 3 категории: если цена была ниже или равна 20, то присваивалась категория **\"Low\"**; если цена от 20 до 250, то присваивалась категория **\"Medium\"**; при цене выше 250 - категория **\"High\"**"
   ]
  },
  {
   "cell_type": "markdown",
   "id": "7569c23d",
   "metadata": {},
   "source": [
    "***Определим список бюджетных вин, рекомендованных к покупке***"
   ]
  },
  {
   "cell_type": "code",
   "execution_count": 24,
   "id": "547f3550",
   "metadata": {},
   "outputs": [],
   "source": [
    "wine['Recommended budget wines'] = np.where((wine['Rating Category'] == 'Great') &\n",
    "                                           (wine['Price Category'] == 'Low'), 1, 0)  #создаем дополнительную переменную "
   ]
  },
  {
   "cell_type": "code",
   "execution_count": 25,
   "id": "178354a0",
   "metadata": {},
   "outputs": [
    {
     "data": {
      "text/html": [
       "<div>\n",
       "<style scoped>\n",
       "    .dataframe tbody tr th:only-of-type {\n",
       "        vertical-align: middle;\n",
       "    }\n",
       "\n",
       "    .dataframe tbody tr th {\n",
       "        vertical-align: top;\n",
       "    }\n",
       "\n",
       "    .dataframe thead th {\n",
       "        text-align: right;\n",
       "    }\n",
       "</style>\n",
       "<table border=\"1\" class=\"dataframe\">\n",
       "  <thead>\n",
       "    <tr style=\"text-align: right;\">\n",
       "      <th></th>\n",
       "      <th>Name</th>\n",
       "      <th>Country</th>\n",
       "      <th>Region</th>\n",
       "      <th>Winery</th>\n",
       "      <th>Rating</th>\n",
       "      <th>NumberOfRatings</th>\n",
       "      <th>Price</th>\n",
       "      <th>Year</th>\n",
       "      <th>Rating Category</th>\n",
       "      <th>Price Category</th>\n",
       "      <th>Recommended budget wines</th>\n",
       "    </tr>\n",
       "  </thead>\n",
       "  <tbody>\n",
       "    <tr>\n",
       "      <th>0</th>\n",
       "      <td>Pomerol 2011</td>\n",
       "      <td>France</td>\n",
       "      <td>Pomerol</td>\n",
       "      <td>Château La Providence</td>\n",
       "      <td>4.2</td>\n",
       "      <td>100</td>\n",
       "      <td>95.00</td>\n",
       "      <td>2011</td>\n",
       "      <td>Good</td>\n",
       "      <td>Medium</td>\n",
       "      <td>0</td>\n",
       "    </tr>\n",
       "    <tr>\n",
       "      <th>1</th>\n",
       "      <td>Lirac 2017</td>\n",
       "      <td>France</td>\n",
       "      <td>Lirac</td>\n",
       "      <td>Château Mont-Redon</td>\n",
       "      <td>4.3</td>\n",
       "      <td>100</td>\n",
       "      <td>15.50</td>\n",
       "      <td>2017</td>\n",
       "      <td>Good</td>\n",
       "      <td>Low</td>\n",
       "      <td>0</td>\n",
       "    </tr>\n",
       "    <tr>\n",
       "      <th>2</th>\n",
       "      <td>Erta e China Rosso di Toscana 2015</td>\n",
       "      <td>Italy</td>\n",
       "      <td>Toscana</td>\n",
       "      <td>Renzo Masi</td>\n",
       "      <td>3.9</td>\n",
       "      <td>100</td>\n",
       "      <td>7.45</td>\n",
       "      <td>2015</td>\n",
       "      <td>Mediocre</td>\n",
       "      <td>Low</td>\n",
       "      <td>0</td>\n",
       "    </tr>\n",
       "    <tr>\n",
       "      <th>3</th>\n",
       "      <td>Bardolino 2019</td>\n",
       "      <td>Italy</td>\n",
       "      <td>Bardolino</td>\n",
       "      <td>Cavalchina</td>\n",
       "      <td>3.5</td>\n",
       "      <td>100</td>\n",
       "      <td>8.72</td>\n",
       "      <td>2019</td>\n",
       "      <td>Mediocre</td>\n",
       "      <td>Low</td>\n",
       "      <td>0</td>\n",
       "    </tr>\n",
       "    <tr>\n",
       "      <th>4</th>\n",
       "      <td>Ried Scheibner Pinot Noir 2016</td>\n",
       "      <td>Austria</td>\n",
       "      <td>Carnuntum</td>\n",
       "      <td>Markowitsch</td>\n",
       "      <td>3.9</td>\n",
       "      <td>100</td>\n",
       "      <td>29.15</td>\n",
       "      <td>2016</td>\n",
       "      <td>Mediocre</td>\n",
       "      <td>Medium</td>\n",
       "      <td>0</td>\n",
       "    </tr>\n",
       "  </tbody>\n",
       "</table>\n",
       "</div>"
      ],
      "text/plain": [
       "                                 Name  Country     Region  \\\n",
       "0                        Pomerol 2011   France    Pomerol   \n",
       "1                          Lirac 2017   France      Lirac   \n",
       "2  Erta e China Rosso di Toscana 2015    Italy    Toscana   \n",
       "3                      Bardolino 2019    Italy  Bardolino   \n",
       "4      Ried Scheibner Pinot Noir 2016  Austria  Carnuntum   \n",
       "\n",
       "                  Winery  Rating  NumberOfRatings  Price  Year  \\\n",
       "0  Château La Providence     4.2              100  95.00  2011   \n",
       "1     Château Mont-Redon     4.3              100  15.50  2017   \n",
       "2             Renzo Masi     3.9              100   7.45  2015   \n",
       "3             Cavalchina     3.5              100   8.72  2019   \n",
       "4            Markowitsch     3.9              100  29.15  2016   \n",
       "\n",
       "  Rating Category Price Category  Recommended budget wines  \n",
       "0            Good         Medium                         0  \n",
       "1            Good            Low                         0  \n",
       "2        Mediocre            Low                         0  \n",
       "3        Mediocre            Low                         0  \n",
       "4        Mediocre         Medium                         0  "
      ]
     },
     "execution_count": 25,
     "metadata": {},
     "output_type": "execute_result"
    }
   ],
   "source": [
    "wine.head() "
   ]
  },
  {
   "cell_type": "code",
   "execution_count": 26,
   "id": "fbf71a3d",
   "metadata": {},
   "outputs": [
    {
     "data": {
      "text/plain": [
       "0"
      ]
     },
     "execution_count": 26,
     "metadata": {},
     "output_type": "execute_result"
    }
   ],
   "source": [
    "wine['Recommended budget wines'].sum()"
   ]
  },
  {
   "cell_type": "markdown",
   "id": "c81fafe6",
   "metadata": {},
   "source": [
    "При создании новой переменной видно что нет ни одного вина, имеющего рейтинг выше 4.5 и стоимость меньше 20, поэтому перезаписываем данную переменную, снижаем рейтинг вина до 4.0"
   ]
  },
  {
   "cell_type": "code",
   "execution_count": 27,
   "id": "c2f1d8b0",
   "metadata": {},
   "outputs": [],
   "source": [
    "wine['Recommended budget wines'] = np.where((wine['Rating Category'] == 'Good') &\n",
    "                                           (wine['Price Category'] == 'Low'), 1, 0)"
   ]
  },
  {
   "cell_type": "code",
   "execution_count": 28,
   "id": "4b5e44b8",
   "metadata": {},
   "outputs": [
    {
     "data": {
      "text/html": [
       "<div>\n",
       "<style scoped>\n",
       "    .dataframe tbody tr th:only-of-type {\n",
       "        vertical-align: middle;\n",
       "    }\n",
       "\n",
       "    .dataframe tbody tr th {\n",
       "        vertical-align: top;\n",
       "    }\n",
       "\n",
       "    .dataframe thead th {\n",
       "        text-align: right;\n",
       "    }\n",
       "</style>\n",
       "<table border=\"1\" class=\"dataframe\">\n",
       "  <thead>\n",
       "    <tr style=\"text-align: right;\">\n",
       "      <th></th>\n",
       "      <th>Name</th>\n",
       "      <th>Country</th>\n",
       "      <th>Region</th>\n",
       "      <th>Winery</th>\n",
       "      <th>Rating</th>\n",
       "      <th>NumberOfRatings</th>\n",
       "      <th>Price</th>\n",
       "      <th>Year</th>\n",
       "      <th>Rating Category</th>\n",
       "      <th>Price Category</th>\n",
       "      <th>Recommended budget wines</th>\n",
       "    </tr>\n",
       "  </thead>\n",
       "  <tbody>\n",
       "    <tr>\n",
       "      <th>0</th>\n",
       "      <td>Pomerol 2011</td>\n",
       "      <td>France</td>\n",
       "      <td>Pomerol</td>\n",
       "      <td>Château La Providence</td>\n",
       "      <td>4.2</td>\n",
       "      <td>100</td>\n",
       "      <td>95.00</td>\n",
       "      <td>2011</td>\n",
       "      <td>Good</td>\n",
       "      <td>Medium</td>\n",
       "      <td>0</td>\n",
       "    </tr>\n",
       "    <tr>\n",
       "      <th>1</th>\n",
       "      <td>Lirac 2017</td>\n",
       "      <td>France</td>\n",
       "      <td>Lirac</td>\n",
       "      <td>Château Mont-Redon</td>\n",
       "      <td>4.3</td>\n",
       "      <td>100</td>\n",
       "      <td>15.50</td>\n",
       "      <td>2017</td>\n",
       "      <td>Good</td>\n",
       "      <td>Low</td>\n",
       "      <td>1</td>\n",
       "    </tr>\n",
       "    <tr>\n",
       "      <th>2</th>\n",
       "      <td>Erta e China Rosso di Toscana 2015</td>\n",
       "      <td>Italy</td>\n",
       "      <td>Toscana</td>\n",
       "      <td>Renzo Masi</td>\n",
       "      <td>3.9</td>\n",
       "      <td>100</td>\n",
       "      <td>7.45</td>\n",
       "      <td>2015</td>\n",
       "      <td>Mediocre</td>\n",
       "      <td>Low</td>\n",
       "      <td>0</td>\n",
       "    </tr>\n",
       "    <tr>\n",
       "      <th>3</th>\n",
       "      <td>Bardolino 2019</td>\n",
       "      <td>Italy</td>\n",
       "      <td>Bardolino</td>\n",
       "      <td>Cavalchina</td>\n",
       "      <td>3.5</td>\n",
       "      <td>100</td>\n",
       "      <td>8.72</td>\n",
       "      <td>2019</td>\n",
       "      <td>Mediocre</td>\n",
       "      <td>Low</td>\n",
       "      <td>0</td>\n",
       "    </tr>\n",
       "    <tr>\n",
       "      <th>4</th>\n",
       "      <td>Ried Scheibner Pinot Noir 2016</td>\n",
       "      <td>Austria</td>\n",
       "      <td>Carnuntum</td>\n",
       "      <td>Markowitsch</td>\n",
       "      <td>3.9</td>\n",
       "      <td>100</td>\n",
       "      <td>29.15</td>\n",
       "      <td>2016</td>\n",
       "      <td>Mediocre</td>\n",
       "      <td>Medium</td>\n",
       "      <td>0</td>\n",
       "    </tr>\n",
       "  </tbody>\n",
       "</table>\n",
       "</div>"
      ],
      "text/plain": [
       "                                 Name  Country     Region  \\\n",
       "0                        Pomerol 2011   France    Pomerol   \n",
       "1                          Lirac 2017   France      Lirac   \n",
       "2  Erta e China Rosso di Toscana 2015    Italy    Toscana   \n",
       "3                      Bardolino 2019    Italy  Bardolino   \n",
       "4      Ried Scheibner Pinot Noir 2016  Austria  Carnuntum   \n",
       "\n",
       "                  Winery  Rating  NumberOfRatings  Price  Year  \\\n",
       "0  Château La Providence     4.2              100  95.00  2011   \n",
       "1     Château Mont-Redon     4.3              100  15.50  2017   \n",
       "2             Renzo Masi     3.9              100   7.45  2015   \n",
       "3             Cavalchina     3.5              100   8.72  2019   \n",
       "4            Markowitsch     3.9              100  29.15  2016   \n",
       "\n",
       "  Rating Category Price Category  Recommended budget wines  \n",
       "0            Good         Medium                         0  \n",
       "1            Good            Low                         1  \n",
       "2        Mediocre            Low                         0  \n",
       "3        Mediocre            Low                         0  \n",
       "4        Mediocre         Medium                         0  "
      ]
     },
     "execution_count": 28,
     "metadata": {},
     "output_type": "execute_result"
    }
   ],
   "source": [
    "wine.head()"
   ]
  },
  {
   "cell_type": "code",
   "execution_count": 29,
   "id": "2c07ed02",
   "metadata": {},
   "outputs": [
    {
     "data": {
      "text/plain": [
       "718"
      ]
     },
     "execution_count": 29,
     "metadata": {},
     "output_type": "execute_result"
    }
   ],
   "source": [
    "wine['Recommended budget wines'].sum()"
   ]
  },
  {
   "cell_type": "markdown",
   "id": "9323fc54",
   "metadata": {},
   "source": [
    "В итоге получам бинарную переменную, где под \"1\" указаны вина с хорошим рейтингом и низкой ценой"
   ]
  },
  {
   "cell_type": "code",
   "execution_count": 30,
   "id": "b8a943ee",
   "metadata": {},
   "outputs": [
    {
     "data": {
      "text/plain": [
       "Mediocre           4988\n",
       "Good               3319\n",
       "Great               287\n",
       "Not recommended      72\n",
       "Name: Rating Category, dtype: int64"
      ]
     },
     "execution_count": 30,
     "metadata": {},
     "output_type": "execute_result"
    }
   ],
   "source": [
    "wine['Rating Category'].value_counts() #Посмотрим какое количество вин есть в каждой категории рейтинга"
   ]
  },
  {
   "cell_type": "markdown",
   "id": "61f641ea",
   "metadata": {},
   "source": [
    "Очевидно, что вин с рейдингом от 3.2 до 4.0 больше всего"
   ]
  },
  {
   "cell_type": "code",
   "execution_count": 31,
   "id": "125b71fb",
   "metadata": {},
   "outputs": [
    {
     "data": {
      "text/plain": [
       "Low       4751\n",
       "Medium    3762\n",
       "High       153\n",
       "Name: Price Category, dtype: int64"
      ]
     },
     "execution_count": 31,
     "metadata": {},
     "output_type": "execute_result"
    }
   ],
   "source": [
    "wine['Price Category'].value_counts() #Посмотрим какое количество вин есть в каждой ценовой категории"
   ]
  },
  {
   "cell_type": "markdown",
   "id": "5617e8c6",
   "metadata": {},
   "source": [
    "Больше всего вин с ценой меньше 20"
   ]
  },
  {
   "cell_type": "code",
   "execution_count": 32,
   "id": "1b8a3810",
   "metadata": {},
   "outputs": [
    {
     "data": {
      "text/plain": [
       "0    7948\n",
       "1     718\n",
       "Name: Recommended budget wines, dtype: int64"
      ]
     },
     "execution_count": 32,
     "metadata": {},
     "output_type": "execute_result"
    }
   ],
   "source": [
    "wine['Recommended budget wines'].value_counts() #Посмотрим количество вин с хорошим рейтингом и низкой ценой"
   ]
  },
  {
   "cell_type": "code",
   "execution_count": 33,
   "id": "2ce713c5",
   "metadata": {},
   "outputs": [
    {
     "data": {
      "text/plain": [
       "Rating Category  Price Category\n",
       "Good             Medium            2569\n",
       "                 Low                718\n",
       "                 High                32\n",
       "Great            Medium             166\n",
       "                 High               121\n",
       "Mediocre         Low               3964\n",
       "                 Medium            1024\n",
       "Not recommended  Low                 69\n",
       "                 Medium               3\n",
       "Name: Price Category, dtype: int64"
      ]
     },
     "execution_count": 33,
     "metadata": {},
     "output_type": "execute_result"
    }
   ],
   "source": [
    "wine.groupby('Rating Category')['Price Category'].value_counts() #Разделяем данные по категориям"
   ]
  },
  {
   "cell_type": "markdown",
   "id": "7f89858b",
   "metadata": {},
   "source": [
    "Из таблицы выше видно, что больше всего вин низкой цены со средним рейтингом. Также, можно отметить, что отсутствуют вина с отличным рейтингом и низкой ценой и дорогие вина со средним и низким рейтингом"
   ]
  },
  {
   "cell_type": "markdown",
   "id": "3e162af0",
   "metadata": {},
   "source": [
    "**Далее приступим к визуализации данных**"
   ]
  },
  {
   "cell_type": "code",
   "execution_count": 34,
   "id": "88c23c29",
   "metadata": {},
   "outputs": [
    {
     "data": {
      "text/plain": [
       "<AxesSubplot:>"
      ]
     },
     "execution_count": 34,
     "metadata": {},
     "output_type": "execute_result"
    },
    {
     "data": {
      "image/png": "[encoded data removed]",
      "text/plain": [
       "<Figure size 432x288 with 1 Axes>"
      ]
     },
     "metadata": {
      "needs_background": "light"
     },
     "output_type": "display_data"
    }
   ],
   "source": [
    "wine['Rating'].hist() #выводим гистограмму"
   ]
  },
  {
   "cell_type": "markdown",
   "id": "815f82c5",
   "metadata": {},
   "source": [
    "На графике показано распределение количества вин относительно рейтинга"
   ]
  },
  {
   "cell_type": "code",
   "execution_count": 35,
   "id": "329657e3",
   "metadata": {},
   "outputs": [
    {
     "data": {
      "text/plain": [
       "<AxesSubplot:>"
      ]
     },
     "execution_count": 35,
     "metadata": {},
     "output_type": "execute_result"
    },
    {
     "data": {
      "image/png": "[encoded data removed]",
      "text/plain": [
       "<Figure size 432x288 with 1 Axes>"
      ]
     },
     "metadata": {
      "needs_background": "light"
     },
     "output_type": "display_data"
    }
   ],
   "source": [
    "wine['Price Category'].value_counts().plot(kind='bar') #для категориальных переменных используем столбчатую диаграмму"
   ]
  },
  {
   "cell_type": "code",
   "execution_count": 36,
   "id": "a66a619f",
   "metadata": {},
   "outputs": [
    {
     "data": {
      "text/plain": [
       "<AxesSubplot:xlabel='Rating Category'>"
      ]
     },
     "execution_count": 36,
     "metadata": {},
     "output_type": "execute_result"
    },
    {
     "data": {
      "image/png": "[encoded data removed]",
      "text/plain": [
       "<Figure size 432x288 with 1 Axes>"
      ]
     },
     "metadata": {
      "needs_background": "light"
     },
     "output_type": "display_data"
    }
   ],
   "source": [
    "wine.groupby('Rating Category')['Price Category'].value_counts().unstack().plot(kind='bar', stacked=True)"
   ]
  },
  {
   "cell_type": "markdown",
   "id": "6779b6ca",
   "metadata": {},
   "source": [
    "Визуализировали категориальные данные"
   ]
  },
  {
   "cell_type": "code",
   "execution_count": 37,
   "id": "a4ecdbd2",
   "metadata": {},
   "outputs": [
    {
     "data": {
      "text/plain": [
       "39.145064620356315"
      ]
     },
     "execution_count": 37,
     "metadata": {},
     "output_type": "execute_result"
    }
   ],
   "source": [
    "wine['Price'].mean()  #найдем среднеарифметический показатель цены"
   ]
  },
  {
   "cell_type": "code",
   "execution_count": 38,
   "id": "7aaf19cb",
   "metadata": {},
   "outputs": [
    {
     "data": {
      "text/plain": [
       "18.2"
      ]
     },
     "execution_count": 38,
     "metadata": {},
     "output_type": "execute_result"
    }
   ],
   "source": [
    "wine['Price'].median()  #найдем медианное значение цены"
   ]
  },
  {
   "cell_type": "code",
   "execution_count": 39,
   "id": "a0505319",
   "metadata": {},
   "outputs": [
    {
     "data": {
      "text/plain": [
       "0    9.9\n",
       "Name: Price, dtype: float64"
      ]
     },
     "execution_count": 39,
     "metadata": {},
     "output_type": "execute_result"
    }
   ],
   "source": [
    "wine['Price'].mode()  #найдем моду показателя цены"
   ]
  },
  {
   "cell_type": "code",
   "execution_count": 40,
   "id": "d618dbf6",
   "metadata": {},
   "outputs": [
    {
     "data": {
      "text/plain": [
       "415.2874451880914"
      ]
     },
     "execution_count": 40,
     "metadata": {},
     "output_type": "execute_result"
    }
   ],
   "source": [
    "wine['NumberOfRatings'].mean()  #найдем среднеарифметический показатель количества отзывов"
   ]
  },
  {
   "cell_type": "code",
   "execution_count": 41,
   "id": "4dc793c5",
   "metadata": {},
   "outputs": [
    {
     "data": {
      "text/plain": [
       "157.0"
      ]
     },
     "execution_count": 41,
     "metadata": {},
     "output_type": "execute_result"
    }
   ],
   "source": [
    "wine['NumberOfRatings'].median()  #найдем медианное значение количества отзывов"
   ]
  },
  {
   "cell_type": "code",
   "execution_count": 42,
   "id": "96ea8541",
   "metadata": {},
   "outputs": [
    {
     "data": {
      "text/plain": [
       "0    30\n",
       "Name: NumberOfRatings, dtype: int64"
      ]
     },
     "execution_count": 42,
     "metadata": {},
     "output_type": "execute_result"
    }
   ],
   "source": [
    "wine['NumberOfRatings'].mode()  #найдем моду показателя количества отзывов"
   ]
  },
  {
   "cell_type": "code",
   "execution_count": 43,
   "id": "c09195f0",
   "metadata": {},
   "outputs": [
    {
     "data": {
      "text/html": [
       "<div>\n",
       "<style scoped>\n",
       "    .dataframe tbody tr th:only-of-type {\n",
       "        vertical-align: middle;\n",
       "    }\n",
       "\n",
       "    .dataframe tbody tr th {\n",
       "        vertical-align: top;\n",
       "    }\n",
       "\n",
       "    .dataframe thead th {\n",
       "        text-align: right;\n",
       "    }\n",
       "</style>\n",
       "<table border=\"1\" class=\"dataframe\">\n",
       "  <thead>\n",
       "    <tr style=\"text-align: right;\">\n",
       "      <th></th>\n",
       "      <th>Rating</th>\n",
       "      <th>NumberOfRatings</th>\n",
       "      <th>Price</th>\n",
       "      <th>Recommended budget wines</th>\n",
       "    </tr>\n",
       "  </thead>\n",
       "  <tbody>\n",
       "    <tr>\n",
       "      <th>count</th>\n",
       "      <td>8666.000000</td>\n",
       "      <td>8666.000000</td>\n",
       "      <td>8666.000000</td>\n",
       "      <td>8666.000000</td>\n",
       "    </tr>\n",
       "    <tr>\n",
       "      <th>mean</th>\n",
       "      <td>3.890342</td>\n",
       "      <td>415.287445</td>\n",
       "      <td>39.145065</td>\n",
       "      <td>0.082853</td>\n",
       "    </tr>\n",
       "    <tr>\n",
       "      <th>std</th>\n",
       "      <td>0.308548</td>\n",
       "      <td>899.726373</td>\n",
       "      <td>84.936307</td>\n",
       "      <td>0.275675</td>\n",
       "    </tr>\n",
       "    <tr>\n",
       "      <th>min</th>\n",
       "      <td>2.500000</td>\n",
       "      <td>25.000000</td>\n",
       "      <td>3.550000</td>\n",
       "      <td>0.000000</td>\n",
       "    </tr>\n",
       "    <tr>\n",
       "      <th>25%</th>\n",
       "      <td>3.700000</td>\n",
       "      <td>66.000000</td>\n",
       "      <td>10.680000</td>\n",
       "      <td>0.000000</td>\n",
       "    </tr>\n",
       "    <tr>\n",
       "      <th>50%</th>\n",
       "      <td>3.900000</td>\n",
       "      <td>157.000000</td>\n",
       "      <td>18.200000</td>\n",
       "      <td>0.000000</td>\n",
       "    </tr>\n",
       "    <tr>\n",
       "      <th>75%</th>\n",
       "      <td>4.100000</td>\n",
       "      <td>401.000000</td>\n",
       "      <td>38.142500</td>\n",
       "      <td>0.000000</td>\n",
       "    </tr>\n",
       "    <tr>\n",
       "      <th>max</th>\n",
       "      <td>4.800000</td>\n",
       "      <td>20293.000000</td>\n",
       "      <td>3410.790000</td>\n",
       "      <td>1.000000</td>\n",
       "    </tr>\n",
       "  </tbody>\n",
       "</table>\n",
       "</div>"
      ],
      "text/plain": [
       "            Rating  NumberOfRatings        Price  Recommended budget wines\n",
       "count  8666.000000      8666.000000  8666.000000               8666.000000\n",
       "mean      3.890342       415.287445    39.145065                  0.082853\n",
       "std       0.308548       899.726373    84.936307                  0.275675\n",
       "min       2.500000        25.000000     3.550000                  0.000000\n",
       "25%       3.700000        66.000000    10.680000                  0.000000\n",
       "50%       3.900000       157.000000    18.200000                  0.000000\n",
       "75%       4.100000       401.000000    38.142500                  0.000000\n",
       "max       4.800000     20293.000000  3410.790000                  1.000000"
      ]
     },
     "execution_count": 43,
     "metadata": {},
     "output_type": "execute_result"
    }
   ],
   "source": [
    "wine.describe() #данная функция помогает подробно изучить показатели"
   ]
  },
  {
   "cell_type": "markdown",
   "id": "3db2f3b3",
   "metadata": {},
   "source": [
    "Столбец \"Recommended budget wines\" включает бинарные данные, поэтому значения в этой таблице для данного показателя являются неинформативными. Поэтому необходимо отфильтровать данные:"
   ]
  },
  {
   "cell_type": "code",
   "execution_count": 44,
   "id": "8be21475",
   "metadata": {},
   "outputs": [
    {
     "data": {
      "text/html": [
       "<div>\n",
       "<style scoped>\n",
       "    .dataframe tbody tr th:only-of-type {\n",
       "        vertical-align: middle;\n",
       "    }\n",
       "\n",
       "    .dataframe tbody tr th {\n",
       "        vertical-align: top;\n",
       "    }\n",
       "\n",
       "    .dataframe thead th {\n",
       "        text-align: right;\n",
       "    }\n",
       "</style>\n",
       "<table border=\"1\" class=\"dataframe\">\n",
       "  <thead>\n",
       "    <tr style=\"text-align: right;\">\n",
       "      <th></th>\n",
       "      <th>Rating</th>\n",
       "      <th>NumberOfRatings</th>\n",
       "      <th>Price</th>\n",
       "    </tr>\n",
       "  </thead>\n",
       "  <tbody>\n",
       "    <tr>\n",
       "      <th>count</th>\n",
       "      <td>8666.000000</td>\n",
       "      <td>8666.000000</td>\n",
       "      <td>8666.000000</td>\n",
       "    </tr>\n",
       "    <tr>\n",
       "      <th>mean</th>\n",
       "      <td>3.890342</td>\n",
       "      <td>415.287445</td>\n",
       "      <td>39.145065</td>\n",
       "    </tr>\n",
       "    <tr>\n",
       "      <th>std</th>\n",
       "      <td>0.308548</td>\n",
       "      <td>899.726373</td>\n",
       "      <td>84.936307</td>\n",
       "    </tr>\n",
       "    <tr>\n",
       "      <th>min</th>\n",
       "      <td>2.500000</td>\n",
       "      <td>25.000000</td>\n",
       "      <td>3.550000</td>\n",
       "    </tr>\n",
       "    <tr>\n",
       "      <th>25%</th>\n",
       "      <td>3.700000</td>\n",
       "      <td>66.000000</td>\n",
       "      <td>10.680000</td>\n",
       "    </tr>\n",
       "    <tr>\n",
       "      <th>50%</th>\n",
       "      <td>3.900000</td>\n",
       "      <td>157.000000</td>\n",
       "      <td>18.200000</td>\n",
       "    </tr>\n",
       "    <tr>\n",
       "      <th>75%</th>\n",
       "      <td>4.100000</td>\n",
       "      <td>401.000000</td>\n",
       "      <td>38.142500</td>\n",
       "    </tr>\n",
       "    <tr>\n",
       "      <th>max</th>\n",
       "      <td>4.800000</td>\n",
       "      <td>20293.000000</td>\n",
       "      <td>3410.790000</td>\n",
       "    </tr>\n",
       "  </tbody>\n",
       "</table>\n",
       "</div>"
      ],
      "text/plain": [
       "            Rating  NumberOfRatings        Price\n",
       "count  8666.000000      8666.000000  8666.000000\n",
       "mean      3.890342       415.287445    39.145065\n",
       "std       0.308548       899.726373    84.936307\n",
       "min       2.500000        25.000000     3.550000\n",
       "25%       3.700000        66.000000    10.680000\n",
       "50%       3.900000       157.000000    18.200000\n",
       "75%       4.100000       401.000000    38.142500\n",
       "max       4.800000     20293.000000  3410.790000"
      ]
     },
     "execution_count": 44,
     "metadata": {},
     "output_type": "execute_result"
    }
   ],
   "source": [
    "wine[['Rating', 'NumberOfRatings', 'Price']].describe()"
   ]
  },
  {
   "cell_type": "markdown",
   "id": "e03fcf36",
   "metadata": {},
   "source": [
    "Посмотрим сколько в среднем отзывов оставляли на сайте для каждой категории вина по рейтингу:"
   ]
  },
  {
   "cell_type": "code",
   "execution_count": 45,
   "id": "ab449a6c",
   "metadata": {},
   "outputs": [
    {
     "data": {
      "text/plain": [
       "Rating Category\n",
       "Good               449.308225\n",
       "Great              582.348432\n",
       "Mediocre           387.492983\n",
       "Not recommended    106.638889\n",
       "Name: NumberOfRatings, dtype: float64"
      ]
     },
     "execution_count": 45,
     "metadata": {},
     "output_type": "execute_result"
    }
   ],
   "source": [
    "wine.groupby('Rating Category')['NumberOfRatings'].mean()"
   ]
  },
  {
   "cell_type": "markdown",
   "id": "ec83d459",
   "metadata": {},
   "source": [
    "Из данных можно сделать вывод, что больше всего отзывов оставляли для вин категории Great и меньше всего отзывов оставляют для вин с самым плохим рейтингом. Визуализируем полученные данные:"
   ]
  },
  {
   "cell_type": "code",
   "execution_count": 46,
   "id": "a666a516",
   "metadata": {},
   "outputs": [
    {
     "data": {
      "text/plain": [
       "<AxesSubplot:xlabel='Rating Category'>"
      ]
     },
     "execution_count": 46,
     "metadata": {},
     "output_type": "execute_result"
    },
    {
     "data": {
      "image/png": "[encoded data removed]",
      "text/plain": [
       "<Figure size 432x288 with 1 Axes>"
      ]
     },
     "metadata": {
      "needs_background": "light"
     },
     "output_type": "display_data"
    }
   ],
   "source": [
    "wine.groupby('Rating Category')['NumberOfRatings'].mean().plot(kind='bar')"
   ]
  },
  {
   "cell_type": "code",
   "execution_count": 47,
   "id": "8d9cb340",
   "metadata": {},
   "outputs": [
    {
     "data": {
      "text/plain": [
       "Price Category\n",
       "High         Great\n",
       "Low       Mediocre\n",
       "Medium        Good\n",
       "Name: Rating Category, dtype: object"
      ]
     },
     "execution_count": 47,
     "metadata": {},
     "output_type": "execute_result"
    }
   ],
   "source": [
    "wine.groupby('Price Category')['Rating Category'].agg(lambda x: x.value_counts().index[0]) \n",
    "#найдем популярное значение для каждой категории"
   ]
  },
  {
   "cell_type": "markdown",
   "id": "c024529b",
   "metadata": {},
   "source": [
    "**Таким образом, дешевые вин обычно среднего качества, вина средней цены имеют хорошие отзывы и вина с высокой ценый чаще всего получаю отличные отзывы**"
   ]
  },
  {
   "cell_type": "code",
   "execution_count": 48,
   "id": "30bd087c",
   "metadata": {},
   "outputs": [
    {
     "data": {
      "text/html": [
       "<div>\n",
       "<style scoped>\n",
       "    .dataframe tbody tr th:only-of-type {\n",
       "        vertical-align: middle;\n",
       "    }\n",
       "\n",
       "    .dataframe tbody tr th {\n",
       "        vertical-align: top;\n",
       "    }\n",
       "\n",
       "    .dataframe thead tr th {\n",
       "        text-align: left;\n",
       "    }\n",
       "\n",
       "    .dataframe thead tr:last-of-type th {\n",
       "        text-align: right;\n",
       "    }\n",
       "</style>\n",
       "<table border=\"1\" class=\"dataframe\">\n",
       "  <thead>\n",
       "    <tr>\n",
       "      <th></th>\n",
       "      <th colspan=\"2\" halign=\"left\">mean</th>\n",
       "      <th colspan=\"2\" halign=\"left\">median</th>\n",
       "    </tr>\n",
       "    <tr>\n",
       "      <th></th>\n",
       "      <th>Price</th>\n",
       "      <th>Rating</th>\n",
       "      <th>Price</th>\n",
       "      <th>Rating</th>\n",
       "    </tr>\n",
       "    <tr>\n",
       "      <th>Country</th>\n",
       "      <th></th>\n",
       "      <th></th>\n",
       "      <th></th>\n",
       "      <th></th>\n",
       "    </tr>\n",
       "  </thead>\n",
       "  <tbody>\n",
       "    <tr>\n",
       "      <th>Argentina</th>\n",
       "      <td>22.374024</td>\n",
       "      <td>3.829268</td>\n",
       "      <td>13.430</td>\n",
       "      <td>3.80</td>\n",
       "    </tr>\n",
       "    <tr>\n",
       "      <th>Australia</th>\n",
       "      <td>41.008415</td>\n",
       "      <td>3.843089</td>\n",
       "      <td>18.910</td>\n",
       "      <td>3.80</td>\n",
       "    </tr>\n",
       "    <tr>\n",
       "      <th>Austria</th>\n",
       "      <td>21.499682</td>\n",
       "      <td>3.799545</td>\n",
       "      <td>14.485</td>\n",
       "      <td>3.80</td>\n",
       "    </tr>\n",
       "    <tr>\n",
       "      <th>Brazil</th>\n",
       "      <td>18.703000</td>\n",
       "      <td>3.502500</td>\n",
       "      <td>14.050</td>\n",
       "      <td>3.50</td>\n",
       "    </tr>\n",
       "    <tr>\n",
       "      <th>Bulgaria</th>\n",
       "      <td>10.150000</td>\n",
       "      <td>3.800000</td>\n",
       "      <td>10.150</td>\n",
       "      <td>3.80</td>\n",
       "    </tr>\n",
       "    <tr>\n",
       "      <th>Canada</th>\n",
       "      <td>14.950000</td>\n",
       "      <td>3.300000</td>\n",
       "      <td>14.950</td>\n",
       "      <td>3.30</td>\n",
       "    </tr>\n",
       "    <tr>\n",
       "      <th>Chile</th>\n",
       "      <td>21.492883</td>\n",
       "      <td>3.769325</td>\n",
       "      <td>12.375</td>\n",
       "      <td>3.70</td>\n",
       "    </tr>\n",
       "    <tr>\n",
       "      <th>China</th>\n",
       "      <td>35.000000</td>\n",
       "      <td>2.900000</td>\n",
       "      <td>35.000</td>\n",
       "      <td>2.90</td>\n",
       "    </tr>\n",
       "    <tr>\n",
       "      <th>Croatia</th>\n",
       "      <td>21.400000</td>\n",
       "      <td>4.100000</td>\n",
       "      <td>21.400</td>\n",
       "      <td>4.10</td>\n",
       "    </tr>\n",
       "    <tr>\n",
       "      <th>France</th>\n",
       "      <td>63.163732</td>\n",
       "      <td>3.935151</td>\n",
       "      <td>31.960</td>\n",
       "      <td>3.90</td>\n",
       "    </tr>\n",
       "    <tr>\n",
       "      <th>Georgia</th>\n",
       "      <td>21.526000</td>\n",
       "      <td>4.140000</td>\n",
       "      <td>16.900</td>\n",
       "      <td>4.10</td>\n",
       "    </tr>\n",
       "    <tr>\n",
       "      <th>Germany</th>\n",
       "      <td>22.188105</td>\n",
       "      <td>3.787097</td>\n",
       "      <td>16.745</td>\n",
       "      <td>3.80</td>\n",
       "    </tr>\n",
       "    <tr>\n",
       "      <th>Greece</th>\n",
       "      <td>17.990000</td>\n",
       "      <td>3.792308</td>\n",
       "      <td>17.290</td>\n",
       "      <td>3.70</td>\n",
       "    </tr>\n",
       "    <tr>\n",
       "      <th>Hungary</th>\n",
       "      <td>14.635556</td>\n",
       "      <td>3.655556</td>\n",
       "      <td>13.500</td>\n",
       "      <td>3.70</td>\n",
       "    </tr>\n",
       "    <tr>\n",
       "      <th>Israel</th>\n",
       "      <td>18.634615</td>\n",
       "      <td>3.807692</td>\n",
       "      <td>15.050</td>\n",
       "      <td>3.90</td>\n",
       "    </tr>\n",
       "    <tr>\n",
       "      <th>Italy</th>\n",
       "      <td>35.533328</td>\n",
       "      <td>3.924453</td>\n",
       "      <td>17.450</td>\n",
       "      <td>3.90</td>\n",
       "    </tr>\n",
       "    <tr>\n",
       "      <th>Lebanon</th>\n",
       "      <td>37.208667</td>\n",
       "      <td>4.160000</td>\n",
       "      <td>36.940</td>\n",
       "      <td>4.20</td>\n",
       "    </tr>\n",
       "    <tr>\n",
       "      <th>Mexico</th>\n",
       "      <td>8.650000</td>\n",
       "      <td>3.400000</td>\n",
       "      <td>8.650</td>\n",
       "      <td>3.40</td>\n",
       "    </tr>\n",
       "    <tr>\n",
       "      <th>Moldova</th>\n",
       "      <td>28.855000</td>\n",
       "      <td>4.162500</td>\n",
       "      <td>12.980</td>\n",
       "      <td>4.10</td>\n",
       "    </tr>\n",
       "    <tr>\n",
       "      <th>New Zealand</th>\n",
       "      <td>29.038254</td>\n",
       "      <td>3.747619</td>\n",
       "      <td>21.500</td>\n",
       "      <td>3.70</td>\n",
       "    </tr>\n",
       "    <tr>\n",
       "      <th>Portugal</th>\n",
       "      <td>20.209261</td>\n",
       "      <td>3.894348</td>\n",
       "      <td>13.550</td>\n",
       "      <td>3.90</td>\n",
       "    </tr>\n",
       "    <tr>\n",
       "      <th>Romania</th>\n",
       "      <td>14.500000</td>\n",
       "      <td>3.756522</td>\n",
       "      <td>11.900</td>\n",
       "      <td>3.80</td>\n",
       "    </tr>\n",
       "    <tr>\n",
       "      <th>Slovakia</th>\n",
       "      <td>19.900000</td>\n",
       "      <td>3.800000</td>\n",
       "      <td>19.900</td>\n",
       "      <td>3.80</td>\n",
       "    </tr>\n",
       "    <tr>\n",
       "      <th>Slovenia</th>\n",
       "      <td>11.905000</td>\n",
       "      <td>3.537500</td>\n",
       "      <td>8.970</td>\n",
       "      <td>3.50</td>\n",
       "    </tr>\n",
       "    <tr>\n",
       "      <th>South Africa</th>\n",
       "      <td>21.635620</td>\n",
       "      <td>3.860000</td>\n",
       "      <td>15.670</td>\n",
       "      <td>3.90</td>\n",
       "    </tr>\n",
       "    <tr>\n",
       "      <th>Spain</th>\n",
       "      <td>25.696541</td>\n",
       "      <td>3.840018</td>\n",
       "      <td>13.925</td>\n",
       "      <td>3.80</td>\n",
       "    </tr>\n",
       "    <tr>\n",
       "      <th>Switzerland</th>\n",
       "      <td>33.904167</td>\n",
       "      <td>3.841667</td>\n",
       "      <td>28.790</td>\n",
       "      <td>3.85</td>\n",
       "    </tr>\n",
       "    <tr>\n",
       "      <th>Turkey</th>\n",
       "      <td>18.600000</td>\n",
       "      <td>3.800000</td>\n",
       "      <td>14.300</td>\n",
       "      <td>3.80</td>\n",
       "    </tr>\n",
       "    <tr>\n",
       "      <th>United States</th>\n",
       "      <td>52.632139</td>\n",
       "      <td>3.952406</td>\n",
       "      <td>25.535</td>\n",
       "      <td>3.90</td>\n",
       "    </tr>\n",
       "    <tr>\n",
       "      <th>Uruguay</th>\n",
       "      <td>14.392500</td>\n",
       "      <td>3.825000</td>\n",
       "      <td>14.290</td>\n",
       "      <td>3.85</td>\n",
       "    </tr>\n",
       "  </tbody>\n",
       "</table>\n",
       "</div>"
      ],
      "text/plain": [
       "                    mean            median       \n",
       "                   Price    Rating   Price Rating\n",
       "Country                                          \n",
       "Argentina      22.374024  3.829268  13.430   3.80\n",
       "Australia      41.008415  3.843089  18.910   3.80\n",
       "Austria        21.499682  3.799545  14.485   3.80\n",
       "Brazil         18.703000  3.502500  14.050   3.50\n",
       "Bulgaria       10.150000  3.800000  10.150   3.80\n",
       "Canada         14.950000  3.300000  14.950   3.30\n",
       "Chile          21.492883  3.769325  12.375   3.70\n",
       "China          35.000000  2.900000  35.000   2.90\n",
       "Croatia        21.400000  4.100000  21.400   4.10\n",
       "France         63.163732  3.935151  31.960   3.90\n",
       "Georgia        21.526000  4.140000  16.900   4.10\n",
       "Germany        22.188105  3.787097  16.745   3.80\n",
       "Greece         17.990000  3.792308  17.290   3.70\n",
       "Hungary        14.635556  3.655556  13.500   3.70\n",
       "Israel         18.634615  3.807692  15.050   3.90\n",
       "Italy          35.533328  3.924453  17.450   3.90\n",
       "Lebanon        37.208667  4.160000  36.940   4.20\n",
       "Mexico          8.650000  3.400000   8.650   3.40\n",
       "Moldova        28.855000  4.162500  12.980   4.10\n",
       "New Zealand    29.038254  3.747619  21.500   3.70\n",
       "Portugal       20.209261  3.894348  13.550   3.90\n",
       "Romania        14.500000  3.756522  11.900   3.80\n",
       "Slovakia       19.900000  3.800000  19.900   3.80\n",
       "Slovenia       11.905000  3.537500   8.970   3.50\n",
       "South Africa   21.635620  3.860000  15.670   3.90\n",
       "Spain          25.696541  3.840018  13.925   3.80\n",
       "Switzerland    33.904167  3.841667  28.790   3.85\n",
       "Turkey         18.600000  3.800000  14.300   3.80\n",
       "United States  52.632139  3.952406  25.535   3.90\n",
       "Uruguay        14.392500  3.825000  14.290   3.85"
      ]
     },
     "execution_count": 48,
     "metadata": {},
     "output_type": "execute_result"
    }
   ],
   "source": [
    "wine.pivot_table(index = 'Country', values = ['Rating', 'Price'], aggfunc = ['mean', 'median']) #составим сводную таблицу"
   ]
  },
  {
   "cell_type": "markdown",
   "id": "c94053d3",
   "metadata": {},
   "source": [
    "Таблица выше показывает среднее и медианное значение цены и рейтинга для каждой из стран"
   ]
  },
  {
   "cell_type": "markdown",
   "id": "a0da0db6",
   "metadata": {},
   "source": [
    "**Далее определим количество бюджетных недорогих вин относительно стран**"
   ]
  },
  {
   "cell_type": "code",
   "execution_count": 49,
   "id": "433b6b8b",
   "metadata": {},
   "outputs": [],
   "source": [
    "wine_country = pd.DataFrame(wine.groupby('Country')['Recommended budget wines'].sum())"
   ]
  },
  {
   "cell_type": "code",
   "execution_count": 50,
   "id": "88620e48",
   "metadata": {},
   "outputs": [
    {
     "data": {
      "text/plain": [
       "<AxesSubplot:xlabel='Country'>"
      ]
     },
     "execution_count": 50,
     "metadata": {},
     "output_type": "execute_result"
    },
    {
     "data": {
      "image/png": "[encoded data removed]",
      "text/plain": [
       "<Figure size 432x288 with 1 Axes>"
      ]
     },
     "metadata": {
      "needs_background": "light"
     },
     "output_type": "display_data"
    }
   ],
   "source": [
    "wine_country.plot(kind = 'bar')"
   ]
  },
  {
   "cell_type": "markdown",
   "id": "8ab0567e",
   "metadata": {},
   "source": [
    "На графике видно, что больше все бюджетных дешевых вин производится в Италии. Также, стоит отметить такие страны как Испания, Франция и ЮАР"
   ]
  },
  {
   "cell_type": "code",
   "execution_count": 51,
   "id": "0ad3c4a6",
   "metadata": {},
   "outputs": [
    {
     "data": {
      "text/plain": [
       "21.5"
      ]
     },
     "execution_count": 51,
     "metadata": {},
     "output_type": "execute_result"
    }
   ],
   "source": [
    "np.percentile(wine_country['Recommended budget wines'], 75) - np.percentile(wine_country['Recommended budget wines'], 25)\n",
    "#нашли интерквартильный размах"
   ]
  },
  {
   "cell_type": "code",
   "execution_count": 52,
   "id": "9910b586",
   "metadata": {},
   "outputs": [
    {
     "name": "stdout",
     "output_type": "stream",
     "text": [
      "3244.2712643678165 56.95850475888405\n"
     ]
    }
   ],
   "source": [
    "wine_mean = wine_country['Recommended budget wines'].mean()\n",
    "deviations = wine_country['Recommended budget wines'] - wine_mean\n",
    "sq_deviations = deviations ** 2\n",
    "variance_samp = sq_deviations.sum() / (len(wine_country) - 1) #нашли дисперсию для выборки\n",
    "std_samp = np.sqrt(variance_samp)  #нашли среднеквадратичное отклонение для выборки\n",
    "print(variance_samp, std_samp)"
   ]
  },
  {
   "cell_type": "markdown",
   "id": "03110a03",
   "metadata": {},
   "source": [
    "Найдем дисперсию и среднеквадратичное отклонение для генеральной совокупности:"
   ]
  },
  {
   "cell_type": "code",
   "execution_count": 53,
   "id": "7ada57d5",
   "metadata": {},
   "outputs": [
    {
     "name": "stdout",
     "output_type": "stream",
     "text": [
      "3136.1288888888894 56.0011507818267\n"
     ]
    }
   ],
   "source": [
    "variance_pop = sq_deviations.sum() / (len(wine_country)) #нашли дисперсию\n",
    "std_pop = np.sqrt(variance_pop)  #нашли среднеквадратичное отклонение\n",
    "print(variance_pop, std_pop)"
   ]
  },
  {
   "cell_type": "markdown",
   "id": "8fef3dfe",
   "metadata": {},
   "source": [
    "Найдем дисперсию и среднеквадратичное отклонение с помощью обычных функций:"
   ]
  },
  {
   "cell_type": "code",
   "execution_count": 54,
   "id": "ceca6ca7",
   "metadata": {},
   "outputs": [
    {
     "name": "stdout",
     "output_type": "stream",
     "text": [
      "3244.2712643678155\n",
      "56.95850475888404\n"
     ]
    }
   ],
   "source": [
    "print(wine_country['Recommended budget wines'].var())  #нашли дисперсию\n",
    "print(wine_country['Recommended budget wines'].std())  #нашли среднеквадратичное отклонение"
   ]
  },
  {
   "cell_type": "code",
   "execution_count": 55,
   "id": "683bc6f0",
   "metadata": {},
   "outputs": [],
   "source": [
    "import scipy.stats  #импортируем дополнительную библиотеку"
   ]
  },
  {
   "cell_type": "markdown",
   "id": "580bbb20",
   "metadata": {},
   "source": [
    "Проведем вычисление z-оценки для колонки Rating"
   ]
  },
  {
   "cell_type": "code",
   "execution_count": 56,
   "id": "d1d11a5c",
   "metadata": {},
   "outputs": [
    {
     "data": {
      "text/plain": [
       "0       1.003658\n",
       "1       1.327776\n",
       "2       0.031305\n",
       "3      -1.265167\n",
       "4       0.031305\n",
       "          ...   \n",
       "8661   -0.292813\n",
       "8662    0.355423\n",
       "8663   -0.616931\n",
       "8664   -1.265167\n",
       "8665   -1.589285\n",
       "Name: Rating, Length: 8666, dtype: float64"
      ]
     },
     "execution_count": 56,
     "metadata": {},
     "output_type": "execute_result"
    }
   ],
   "source": [
    "scipy.stats.zscore(wine['Rating']) #вычисление z-оценки"
   ]
  },
  {
   "cell_type": "code",
   "execution_count": 57,
   "id": "5d0c9478",
   "metadata": {},
   "outputs": [],
   "source": [
    "wine['z-score'] = scipy.stats.zscore(wine['Rating']) #сохраняем доп столбец"
   ]
  },
  {
   "cell_type": "code",
   "execution_count": 58,
   "id": "8dac5a92",
   "metadata": {},
   "outputs": [
    {
     "data": {
      "text/html": [
       "<div>\n",
       "<style scoped>\n",
       "    .dataframe tbody tr th:only-of-type {\n",
       "        vertical-align: middle;\n",
       "    }\n",
       "\n",
       "    .dataframe tbody tr th {\n",
       "        vertical-align: top;\n",
       "    }\n",
       "\n",
       "    .dataframe thead th {\n",
       "        text-align: right;\n",
       "    }\n",
       "</style>\n",
       "<table border=\"1\" class=\"dataframe\">\n",
       "  <thead>\n",
       "    <tr style=\"text-align: right;\">\n",
       "      <th></th>\n",
       "      <th>Name</th>\n",
       "      <th>Country</th>\n",
       "      <th>Region</th>\n",
       "      <th>Winery</th>\n",
       "      <th>Rating</th>\n",
       "      <th>NumberOfRatings</th>\n",
       "      <th>Price</th>\n",
       "      <th>Year</th>\n",
       "      <th>Rating Category</th>\n",
       "      <th>Price Category</th>\n",
       "      <th>Recommended budget wines</th>\n",
       "      <th>z-score</th>\n",
       "    </tr>\n",
       "  </thead>\n",
       "  <tbody>\n",
       "    <tr>\n",
       "      <th>0</th>\n",
       "      <td>Pomerol 2011</td>\n",
       "      <td>France</td>\n",
       "      <td>Pomerol</td>\n",
       "      <td>Château La Providence</td>\n",
       "      <td>4.2</td>\n",
       "      <td>100</td>\n",
       "      <td>95.00</td>\n",
       "      <td>2011</td>\n",
       "      <td>Good</td>\n",
       "      <td>Medium</td>\n",
       "      <td>0</td>\n",
       "      <td>1.003658</td>\n",
       "    </tr>\n",
       "    <tr>\n",
       "      <th>1</th>\n",
       "      <td>Lirac 2017</td>\n",
       "      <td>France</td>\n",
       "      <td>Lirac</td>\n",
       "      <td>Château Mont-Redon</td>\n",
       "      <td>4.3</td>\n",
       "      <td>100</td>\n",
       "      <td>15.50</td>\n",
       "      <td>2017</td>\n",
       "      <td>Good</td>\n",
       "      <td>Low</td>\n",
       "      <td>1</td>\n",
       "      <td>1.327776</td>\n",
       "    </tr>\n",
       "    <tr>\n",
       "      <th>2</th>\n",
       "      <td>Erta e China Rosso di Toscana 2015</td>\n",
       "      <td>Italy</td>\n",
       "      <td>Toscana</td>\n",
       "      <td>Renzo Masi</td>\n",
       "      <td>3.9</td>\n",
       "      <td>100</td>\n",
       "      <td>7.45</td>\n",
       "      <td>2015</td>\n",
       "      <td>Mediocre</td>\n",
       "      <td>Low</td>\n",
       "      <td>0</td>\n",
       "      <td>0.031305</td>\n",
       "    </tr>\n",
       "    <tr>\n",
       "      <th>3</th>\n",
       "      <td>Bardolino 2019</td>\n",
       "      <td>Italy</td>\n",
       "      <td>Bardolino</td>\n",
       "      <td>Cavalchina</td>\n",
       "      <td>3.5</td>\n",
       "      <td>100</td>\n",
       "      <td>8.72</td>\n",
       "      <td>2019</td>\n",
       "      <td>Mediocre</td>\n",
       "      <td>Low</td>\n",
       "      <td>0</td>\n",
       "      <td>-1.265167</td>\n",
       "    </tr>\n",
       "    <tr>\n",
       "      <th>4</th>\n",
       "      <td>Ried Scheibner Pinot Noir 2016</td>\n",
       "      <td>Austria</td>\n",
       "      <td>Carnuntum</td>\n",
       "      <td>Markowitsch</td>\n",
       "      <td>3.9</td>\n",
       "      <td>100</td>\n",
       "      <td>29.15</td>\n",
       "      <td>2016</td>\n",
       "      <td>Mediocre</td>\n",
       "      <td>Medium</td>\n",
       "      <td>0</td>\n",
       "      <td>0.031305</td>\n",
       "    </tr>\n",
       "  </tbody>\n",
       "</table>\n",
       "</div>"
      ],
      "text/plain": [
       "                                 Name  Country     Region  \\\n",
       "0                        Pomerol 2011   France    Pomerol   \n",
       "1                          Lirac 2017   France      Lirac   \n",
       "2  Erta e China Rosso di Toscana 2015    Italy    Toscana   \n",
       "3                      Bardolino 2019    Italy  Bardolino   \n",
       "4      Ried Scheibner Pinot Noir 2016  Austria  Carnuntum   \n",
       "\n",
       "                  Winery  Rating  NumberOfRatings  Price  Year  \\\n",
       "0  Château La Providence     4.2              100  95.00  2011   \n",
       "1     Château Mont-Redon     4.3              100  15.50  2017   \n",
       "2             Renzo Masi     3.9              100   7.45  2015   \n",
       "3             Cavalchina     3.5              100   8.72  2019   \n",
       "4            Markowitsch     3.9              100  29.15  2016   \n",
       "\n",
       "  Rating Category Price Category  Recommended budget wines   z-score  \n",
       "0            Good         Medium                         0  1.003658  \n",
       "1            Good            Low                         1  1.327776  \n",
       "2        Mediocre            Low                         0  0.031305  \n",
       "3        Mediocre            Low                         0 -1.265167  \n",
       "4        Mediocre         Medium                         0  0.031305  "
      ]
     },
     "execution_count": 58,
     "metadata": {},
     "output_type": "execute_result"
    }
   ],
   "source": [
    "wine.head()"
   ]
  },
  {
   "cell_type": "code",
   "execution_count": 59,
   "id": "155d6cd9",
   "metadata": {},
   "outputs": [
    {
     "data": {
      "text/plain": [
       "<AxesSubplot:>"
      ]
     },
     "execution_count": 59,
     "metadata": {},
     "output_type": "execute_result"
    },
    {
     "data": {
      "image/png": "[encoded data removed]",
      "text/plain": [
       "<Figure size 432x288 with 1 Axes>"
      ]
     },
     "metadata": {
      "needs_background": "light"
     },
     "output_type": "display_data"
    }
   ],
   "source": [
    "wine['z-score'].hist() #распределение по рейтингу вин"
   ]
  },
  {
   "cell_type": "code",
   "execution_count": 60,
   "id": "a61c09fe",
   "metadata": {},
   "outputs": [
    {
     "data": {
      "text/html": [
       "<div>\n",
       "<style scoped>\n",
       "    .dataframe tbody tr th:only-of-type {\n",
       "        vertical-align: middle;\n",
       "    }\n",
       "\n",
       "    .dataframe tbody tr th {\n",
       "        vertical-align: top;\n",
       "    }\n",
       "\n",
       "    .dataframe thead th {\n",
       "        text-align: right;\n",
       "    }\n",
       "</style>\n",
       "<table border=\"1\" class=\"dataframe\">\n",
       "  <thead>\n",
       "    <tr style=\"text-align: right;\">\n",
       "      <th></th>\n",
       "      <th>Name</th>\n",
       "      <th>Country</th>\n",
       "      <th>Region</th>\n",
       "      <th>Winery</th>\n",
       "      <th>Rating</th>\n",
       "      <th>NumberOfRatings</th>\n",
       "      <th>Price</th>\n",
       "      <th>Year</th>\n",
       "      <th>Rating Category</th>\n",
       "      <th>Price Category</th>\n",
       "      <th>Recommended budget wines</th>\n",
       "      <th>z-score</th>\n",
       "    </tr>\n",
       "  </thead>\n",
       "  <tbody>\n",
       "    <tr>\n",
       "      <th>23</th>\n",
       "      <td>Virtus Tannat 2013</td>\n",
       "      <td>Brazil</td>\n",
       "      <td>Serra Gaúcha</td>\n",
       "      <td>Monte Paschoal</td>\n",
       "      <td>2.9</td>\n",
       "      <td>100</td>\n",
       "      <td>6.77</td>\n",
       "      <td>2013</td>\n",
       "      <td>Not recommended</td>\n",
       "      <td>Low</td>\n",
       "      <td>0</td>\n",
       "      <td>-3.209874</td>\n",
       "    </tr>\n",
       "    <tr>\n",
       "      <th>1858</th>\n",
       "      <td>Merlot 2018</td>\n",
       "      <td>South Africa</td>\n",
       "      <td>Stellenbosch</td>\n",
       "      <td>Welmoed</td>\n",
       "      <td>2.9</td>\n",
       "      <td>175</td>\n",
       "      <td>8.32</td>\n",
       "      <td>2018</td>\n",
       "      <td>Not recommended</td>\n",
       "      <td>Low</td>\n",
       "      <td>0</td>\n",
       "      <td>-3.209874</td>\n",
       "    </tr>\n",
       "    <tr>\n",
       "      <th>2733</th>\n",
       "      <td>Moser Family Cabernet Sauvignon 摩塞尔家族赤霞珠 2016</td>\n",
       "      <td>China</td>\n",
       "      <td>Ningxia</td>\n",
       "      <td>Château Changyu Moser XV 张裕摩塞尔十五世酒庄</td>\n",
       "      <td>2.9</td>\n",
       "      <td>235</td>\n",
       "      <td>35.00</td>\n",
       "      <td>2016</td>\n",
       "      <td>Not recommended</td>\n",
       "      <td>Medium</td>\n",
       "      <td>0</td>\n",
       "      <td>-3.209874</td>\n",
       "    </tr>\n",
       "    <tr>\n",
       "      <th>3091</th>\n",
       "      <td>Syrah 2018</td>\n",
       "      <td>France</td>\n",
       "      <td>Vin de France</td>\n",
       "      <td>Maison les Alexandrins</td>\n",
       "      <td>2.8</td>\n",
       "      <td>26</td>\n",
       "      <td>9.95</td>\n",
       "      <td>2018</td>\n",
       "      <td>Not recommended</td>\n",
       "      <td>Low</td>\n",
       "      <td>0</td>\n",
       "      <td>-3.533992</td>\n",
       "    </tr>\n",
       "    <tr>\n",
       "      <th>4176</th>\n",
       "      <td>Marche Rosso 2015</td>\n",
       "      <td>Italy</td>\n",
       "      <td>Marche</td>\n",
       "      <td>Roberto Lucarelli</td>\n",
       "      <td>2.6</td>\n",
       "      <td>33</td>\n",
       "      <td>11.50</td>\n",
       "      <td>2015</td>\n",
       "      <td>Not recommended</td>\n",
       "      <td>Low</td>\n",
       "      <td>0</td>\n",
       "      <td>-4.182228</td>\n",
       "    </tr>\n",
       "    <tr>\n",
       "      <th>4542</th>\n",
       "      <td>Dolcetto d'Alba 2013</td>\n",
       "      <td>Italy</td>\n",
       "      <td>Dolcetto d'Alba</td>\n",
       "      <td>Piazzo</td>\n",
       "      <td>2.7</td>\n",
       "      <td>36</td>\n",
       "      <td>9.12</td>\n",
       "      <td>2013</td>\n",
       "      <td>Not recommended</td>\n",
       "      <td>Low</td>\n",
       "      <td>0</td>\n",
       "      <td>-3.858110</td>\n",
       "    </tr>\n",
       "    <tr>\n",
       "      <th>4998</th>\n",
       "      <td>Cabernet Sauvignon 2016</td>\n",
       "      <td>France</td>\n",
       "      <td>Pays d'Oc</td>\n",
       "      <td>Fortant</td>\n",
       "      <td>2.5</td>\n",
       "      <td>40</td>\n",
       "      <td>8.29</td>\n",
       "      <td>2016</td>\n",
       "      <td>Not recommended</td>\n",
       "      <td>Low</td>\n",
       "      <td>0</td>\n",
       "      <td>-4.506346</td>\n",
       "    </tr>\n",
       "    <tr>\n",
       "      <th>5693</th>\n",
       "      <td>Melodias Cabernet Sauvignon 2018</td>\n",
       "      <td>Argentina</td>\n",
       "      <td>Mendoza</td>\n",
       "      <td>Trapiche</td>\n",
       "      <td>2.9</td>\n",
       "      <td>47</td>\n",
       "      <td>5.95</td>\n",
       "      <td>2018</td>\n",
       "      <td>Not recommended</td>\n",
       "      <td>Low</td>\n",
       "      <td>0</td>\n",
       "      <td>-3.209874</td>\n",
       "    </tr>\n",
       "    <tr>\n",
       "      <th>5759</th>\n",
       "      <td>Cabernet Sauvignon 2017</td>\n",
       "      <td>Chile</td>\n",
       "      <td>Central Valley</td>\n",
       "      <td>Anderra</td>\n",
       "      <td>2.9</td>\n",
       "      <td>478</td>\n",
       "      <td>6.90</td>\n",
       "      <td>2017</td>\n",
       "      <td>Not recommended</td>\n",
       "      <td>Low</td>\n",
       "      <td>0</td>\n",
       "      <td>-3.209874</td>\n",
       "    </tr>\n",
       "    <tr>\n",
       "      <th>5954</th>\n",
       "      <td>Valpolicella Classico 2019</td>\n",
       "      <td>Italy</td>\n",
       "      <td>Valpolicella Classico</td>\n",
       "      <td>Bolla</td>\n",
       "      <td>2.8</td>\n",
       "      <td>50</td>\n",
       "      <td>9.49</td>\n",
       "      <td>2019</td>\n",
       "      <td>Not recommended</td>\n",
       "      <td>Low</td>\n",
       "      <td>0</td>\n",
       "      <td>-3.533992</td>\n",
       "    </tr>\n",
       "    <tr>\n",
       "      <th>6335</th>\n",
       "      <td>Cabernet Sauvignon 2018</td>\n",
       "      <td>South Africa</td>\n",
       "      <td>Cape Town</td>\n",
       "      <td>Cape Town Wine Co</td>\n",
       "      <td>2.5</td>\n",
       "      <td>55</td>\n",
       "      <td>7.50</td>\n",
       "      <td>2018</td>\n",
       "      <td>Not recommended</td>\n",
       "      <td>Low</td>\n",
       "      <td>0</td>\n",
       "      <td>-4.506346</td>\n",
       "    </tr>\n",
       "    <tr>\n",
       "      <th>6420</th>\n",
       "      <td>Grande Cuvée Corbières Rouge 2017</td>\n",
       "      <td>France</td>\n",
       "      <td>Corbières</td>\n",
       "      <td>Château Amandiers</td>\n",
       "      <td>2.8</td>\n",
       "      <td>56</td>\n",
       "      <td>8.33</td>\n",
       "      <td>2017</td>\n",
       "      <td>Not recommended</td>\n",
       "      <td>Low</td>\n",
       "      <td>0</td>\n",
       "      <td>-3.533992</td>\n",
       "    </tr>\n",
       "    <tr>\n",
       "      <th>6925</th>\n",
       "      <td>Terroir Littoral Merlot 2018</td>\n",
       "      <td>France</td>\n",
       "      <td>Languedoc-Roussillon</td>\n",
       "      <td>Fortant</td>\n",
       "      <td>2.9</td>\n",
       "      <td>63</td>\n",
       "      <td>6.51</td>\n",
       "      <td>2018</td>\n",
       "      <td>Not recommended</td>\n",
       "      <td>Low</td>\n",
       "      <td>0</td>\n",
       "      <td>-3.209874</td>\n",
       "    </tr>\n",
       "    <tr>\n",
       "      <th>7091</th>\n",
       "      <td>Villa Mura Bardolino 2015</td>\n",
       "      <td>Italy</td>\n",
       "      <td>Bardolino</td>\n",
       "      <td>Sartori</td>\n",
       "      <td>2.8</td>\n",
       "      <td>66</td>\n",
       "      <td>7.32</td>\n",
       "      <td>2015</td>\n",
       "      <td>Not recommended</td>\n",
       "      <td>Low</td>\n",
       "      <td>0</td>\n",
       "      <td>-3.533992</td>\n",
       "    </tr>\n",
       "    <tr>\n",
       "      <th>7347</th>\n",
       "      <td>Estoras 2017</td>\n",
       "      <td>Austria</td>\n",
       "      <td>Burgenland</td>\n",
       "      <td>Esterházy</td>\n",
       "      <td>2.8</td>\n",
       "      <td>70</td>\n",
       "      <td>11.45</td>\n",
       "      <td>2017</td>\n",
       "      <td>Not recommended</td>\n",
       "      <td>Low</td>\n",
       "      <td>0</td>\n",
       "      <td>-3.533992</td>\n",
       "    </tr>\n",
       "  </tbody>\n",
       "</table>\n",
       "</div>"
      ],
      "text/plain": [
       "                                               Name       Country  \\\n",
       "23                               Virtus Tannat 2013        Brazil   \n",
       "1858                                    Merlot 2018  South Africa   \n",
       "2733  Moser Family Cabernet Sauvignon 摩塞尔家族赤霞珠 2016         China   \n",
       "3091                                     Syrah 2018        France   \n",
       "4176                              Marche Rosso 2015         Italy   \n",
       "4542                           Dolcetto d'Alba 2013         Italy   \n",
       "4998                        Cabernet Sauvignon 2016        France   \n",
       "5693               Melodias Cabernet Sauvignon 2018     Argentina   \n",
       "5759                        Cabernet Sauvignon 2017         Chile   \n",
       "5954                     Valpolicella Classico 2019         Italy   \n",
       "6335                        Cabernet Sauvignon 2018  South Africa   \n",
       "6420              Grande Cuvée Corbières Rouge 2017        France   \n",
       "6925                   Terroir Littoral Merlot 2018        France   \n",
       "7091                      Villa Mura Bardolino 2015         Italy   \n",
       "7347                                   Estoras 2017       Austria   \n",
       "\n",
       "                     Region                               Winery  Rating  \\\n",
       "23             Serra Gaúcha                       Monte Paschoal     2.9   \n",
       "1858           Stellenbosch                              Welmoed     2.9   \n",
       "2733                Ningxia  Château Changyu Moser XV 张裕摩塞尔十五世酒庄     2.9   \n",
       "3091          Vin de France               Maison les Alexandrins     2.8   \n",
       "4176                 Marche                    Roberto Lucarelli     2.6   \n",
       "4542        Dolcetto d'Alba                               Piazzo     2.7   \n",
       "4998              Pays d'Oc                              Fortant     2.5   \n",
       "5693                Mendoza                             Trapiche     2.9   \n",
       "5759         Central Valley                              Anderra     2.9   \n",
       "5954  Valpolicella Classico                                Bolla     2.8   \n",
       "6335              Cape Town                    Cape Town Wine Co     2.5   \n",
       "6420              Corbières                    Château Amandiers     2.8   \n",
       "6925   Languedoc-Roussillon                              Fortant     2.9   \n",
       "7091              Bardolino                              Sartori     2.8   \n",
       "7347             Burgenland                            Esterházy     2.8   \n",
       "\n",
       "      NumberOfRatings  Price  Year  Rating Category Price Category  \\\n",
       "23                100   6.77  2013  Not recommended            Low   \n",
       "1858              175   8.32  2018  Not recommended            Low   \n",
       "2733              235  35.00  2016  Not recommended         Medium   \n",
       "3091               26   9.95  2018  Not recommended            Low   \n",
       "4176               33  11.50  2015  Not recommended            Low   \n",
       "4542               36   9.12  2013  Not recommended            Low   \n",
       "4998               40   8.29  2016  Not recommended            Low   \n",
       "5693               47   5.95  2018  Not recommended            Low   \n",
       "5759              478   6.90  2017  Not recommended            Low   \n",
       "5954               50   9.49  2019  Not recommended            Low   \n",
       "6335               55   7.50  2018  Not recommended            Low   \n",
       "6420               56   8.33  2017  Not recommended            Low   \n",
       "6925               63   6.51  2018  Not recommended            Low   \n",
       "7091               66   7.32  2015  Not recommended            Low   \n",
       "7347               70  11.45  2017  Not recommended            Low   \n",
       "\n",
       "      Recommended budget wines   z-score  \n",
       "23                           0 -3.209874  \n",
       "1858                         0 -3.209874  \n",
       "2733                         0 -3.209874  \n",
       "3091                         0 -3.533992  \n",
       "4176                         0 -4.182228  \n",
       "4542                         0 -3.858110  \n",
       "4998                         0 -4.506346  \n",
       "5693                         0 -3.209874  \n",
       "5759                         0 -3.209874  \n",
       "5954                         0 -3.533992  \n",
       "6335                         0 -4.506346  \n",
       "6420                         0 -3.533992  \n",
       "6925                         0 -3.209874  \n",
       "7091                         0 -3.533992  \n",
       "7347                         0 -3.533992  "
      ]
     },
     "execution_count": 60,
     "metadata": {},
     "output_type": "execute_result"
    }
   ],
   "source": [
    "wine[wine['z-score'] < -3] #выведем позиции, у которых z-оценка меньше -3"
   ]
  },
  {
   "cell_type": "code",
   "execution_count": 61,
   "id": "7bb03bbb",
   "metadata": {},
   "outputs": [
    {
     "data": {
      "text/plain": [
       "Price Category\n",
       "High      2.109472\n",
       "Low      -0.572860\n",
       "Medium    0.637669\n",
       "Name: z-score, dtype: float64"
      ]
     },
     "execution_count": 61,
     "metadata": {},
     "output_type": "execute_result"
    }
   ],
   "source": [
    "wine.groupby('Price Category')['z-score'].mean()"
   ]
  },
  {
   "cell_type": "markdown",
   "id": "13e6bc74",
   "metadata": {},
   "source": [
    "Из таблицы можем сделать вывод, что дешевые вина имеют низкую (отрицательную) z-оценку, а дорогие вина высокую"
   ]
  },
  {
   "cell_type": "markdown",
   "id": "77f1d993",
   "metadata": {},
   "source": [
    "**Расчитаем выбросы для данных Number Of Ratings**"
   ]
  },
  {
   "cell_type": "code",
   "execution_count": 62,
   "id": "98e66b28",
   "metadata": {},
   "outputs": [
    {
     "data": {
      "text/plain": [
       "count     8666.000000\n",
       "mean       415.287445\n",
       "std        899.726373\n",
       "min         25.000000\n",
       "25%         66.000000\n",
       "50%        157.000000\n",
       "75%        401.000000\n",
       "max      20293.000000\n",
       "Name: NumberOfRatings, dtype: float64"
      ]
     },
     "execution_count": 62,
     "metadata": {},
     "output_type": "execute_result"
    }
   ],
   "source": [
    "wine['NumberOfRatings'].describe()"
   ]
  },
  {
   "cell_type": "markdown",
   "id": "55479be3",
   "metadata": {},
   "source": [
    "Проверим, есть ли в данном поле выбросы:"
   ]
  },
  {
   "cell_type": "code",
   "execution_count": 63,
   "id": "69641d5c",
   "metadata": {},
   "outputs": [
    {
     "name": "stdout",
     "output_type": "stream",
     "text": [
      "401.0 66.0\n"
     ]
    }
   ],
   "source": [
    "q3 = np.percentile(wine['NumberOfRatings'], 75)\n",
    "q1 = np.percentile(wine['NumberOfRatings'], 25)\n",
    "print(q3, q1)"
   ]
  },
  {
   "cell_type": "code",
   "execution_count": 64,
   "id": "f0e66f5b",
   "metadata": {},
   "outputs": [
    {
     "name": "stdout",
     "output_type": "stream",
     "text": [
      "335.0\n"
     ]
    }
   ],
   "source": [
    "iqr = q3 - q1 #найдем интерквартильный размах\n",
    "print(iqr)"
   ]
  },
  {
   "cell_type": "code",
   "execution_count": 65,
   "id": "7e6de109",
   "metadata": {},
   "outputs": [
    {
     "name": "stdout",
     "output_type": "stream",
     "text": [
      "-436.5 903.5\n"
     ]
    }
   ],
   "source": [
    "iqr_threshold_bottom = q1 - 1.5 * iqr\n",
    "iqr_threshold_top = q3 + 1.5 * iqr\n",
    "print(iqr_threshold_bottom, iqr_threshold_top)"
   ]
  },
  {
   "cell_type": "code",
   "execution_count": 66,
   "id": "ca0f6250",
   "metadata": {},
   "outputs": [
    {
     "data": {
      "text/plain": [
       "(909, 12)"
      ]
     },
     "execution_count": 66,
     "metadata": {},
     "output_type": "execute_result"
    }
   ],
   "source": [
    "wine[wine['NumberOfRatings'] > iqr_threshold_top].shape   #смотрим только верхний размах, т к в нижнем отрицательное значение"
   ]
  },
  {
   "cell_type": "code",
   "execution_count": 67,
   "id": "993619ec",
   "metadata": {},
   "outputs": [
    {
     "data": {
      "text/plain": [
       "Italy            266\n",
       "Spain            155\n",
       "France           153\n",
       "United States    114\n",
       "Argentina         64\n",
       "Chile             57\n",
       "Portugal          30\n",
       "Australia         21\n",
       "South Africa      20\n",
       "Lebanon           12\n",
       "Brazil             5\n",
       "New Zealand        4\n",
       "Moldova            3\n",
       "Austria            3\n",
       "Mexico             1\n",
       "Uruguay            1\n",
       "Name: Country, dtype: int64"
      ]
     },
     "execution_count": 67,
     "metadata": {},
     "output_type": "execute_result"
    }
   ],
   "source": [
    "wine[wine['NumberOfRatings'] > iqr_threshold_top]['Country'].value_counts() #посмотрим выбросы по странам"
   ]
  },
  {
   "cell_type": "code",
   "execution_count": 68,
   "id": "e137af13",
   "metadata": {},
   "outputs": [
    {
     "data": {
      "text/plain": [
       "Low       511\n",
       "Medium    381\n",
       "High       17\n",
       "Name: Price Category, dtype: int64"
      ]
     },
     "execution_count": 68,
     "metadata": {},
     "output_type": "execute_result"
    }
   ],
   "source": [
    "wine[wine['NumberOfRatings'] > iqr_threshold_top]['Price Category'].value_counts() #посмотрим выбросы по ценовой категории"
   ]
  },
  {
   "cell_type": "markdown",
   "id": "13285067",
   "metadata": {},
   "source": [
    "Очевидно, что максимальные выбросы находятся у наиболее популярных вин: по стране - Италия, по ценовой категории - дешевые вина"
   ]
  },
  {
   "cell_type": "markdown",
   "id": "3fb8e6b4",
   "metadata": {},
   "source": [
    "Посмотрим коэффициенты корреляции"
   ]
  },
  {
   "cell_type": "code",
   "execution_count": 69,
   "id": "3cea5b2b",
   "metadata": {
    "scrolled": true
   },
   "outputs": [
    {
     "data": {
      "text/plain": [
       "0.00640671680099248"
      ]
     },
     "execution_count": 69,
     "metadata": {},
     "output_type": "execute_result"
    }
   ],
   "source": [
    "wine['Price'].corr(wine['NumberOfRatings']) #коэффициент крайне низок - нет никакой зависимости"
   ]
  },
  {
   "cell_type": "code",
   "execution_count": 70,
   "id": "733657b8",
   "metadata": {},
   "outputs": [
    {
     "data": {
      "text/plain": [
       "0.07521644033885252"
      ]
     },
     "execution_count": 70,
     "metadata": {},
     "output_type": "execute_result"
    }
   ],
   "source": [
    "wine['NumberOfRatings'].corr(wine['Rating']) #коэффициент крайне низок - нет никакой зависимости"
   ]
  },
  {
   "cell_type": "code",
   "execution_count": 71,
   "id": "e93df3ba",
   "metadata": {
    "scrolled": true
   },
   "outputs": [
    {
     "data": {
      "text/plain": [
       "0.4510596311327645"
      ]
     },
     "execution_count": 71,
     "metadata": {},
     "output_type": "execute_result"
    }
   ],
   "source": [
    "wine['Rating'].corr(wine['Price'])   #коэффициент выше - умеренная корреляция"
   ]
  },
  {
   "cell_type": "code",
   "execution_count": 72,
   "id": "7b96083d",
   "metadata": {},
   "outputs": [
    {
     "data": {
      "text/plain": [
       "<AxesSubplot:xlabel='Rating', ylabel='Price'>"
      ]
     },
     "execution_count": 72,
     "metadata": {},
     "output_type": "execute_result"
    },
    {
     "data": {
      "image/png": "[encoded data removed]",
      "text/plain": [
       "<Figure size 432x288 with 1 Axes>"
      ]
     },
     "metadata": {
      "needs_background": "light"
     },
     "output_type": "display_data"
    }
   ],
   "source": [
    "wine.plot('Rating', 'Price', kind = 'scatter') #визуализируем график корреляции"
   ]
  },
  {
   "cell_type": "code",
   "execution_count": 73,
   "id": "c7536fe2",
   "metadata": {},
   "outputs": [
    {
     "data": {
      "text/html": [
       "<div>\n",
       "<style scoped>\n",
       "    .dataframe tbody tr th:only-of-type {\n",
       "        vertical-align: middle;\n",
       "    }\n",
       "\n",
       "    .dataframe tbody tr th {\n",
       "        vertical-align: top;\n",
       "    }\n",
       "\n",
       "    .dataframe thead th {\n",
       "        text-align: right;\n",
       "    }\n",
       "</style>\n",
       "<table border=\"1\" class=\"dataframe\">\n",
       "  <thead>\n",
       "    <tr style=\"text-align: right;\">\n",
       "      <th></th>\n",
       "      <th>Rating</th>\n",
       "      <th>NumberOfRatings</th>\n",
       "      <th>Price</th>\n",
       "      <th>Recommended budget wines</th>\n",
       "      <th>z-score</th>\n",
       "    </tr>\n",
       "  </thead>\n",
       "  <tbody>\n",
       "    <tr>\n",
       "      <th>Rating</th>\n",
       "      <td>1.000000</td>\n",
       "      <td>0.075216</td>\n",
       "      <td>0.451060</td>\n",
       "      <td>0.173445</td>\n",
       "      <td>1.000000</td>\n",
       "    </tr>\n",
       "    <tr>\n",
       "      <th>NumberOfRatings</th>\n",
       "      <td>0.075216</td>\n",
       "      <td>1.000000</td>\n",
       "      <td>0.006407</td>\n",
       "      <td>0.071815</td>\n",
       "      <td>0.075216</td>\n",
       "    </tr>\n",
       "    <tr>\n",
       "      <th>Price</th>\n",
       "      <td>0.451060</td>\n",
       "      <td>0.006407</td>\n",
       "      <td>1.000000</td>\n",
       "      <td>-0.087665</td>\n",
       "      <td>0.451060</td>\n",
       "    </tr>\n",
       "    <tr>\n",
       "      <th>Recommended budget wines</th>\n",
       "      <td>0.173445</td>\n",
       "      <td>0.071815</td>\n",
       "      <td>-0.087665</td>\n",
       "      <td>1.000000</td>\n",
       "      <td>0.173445</td>\n",
       "    </tr>\n",
       "    <tr>\n",
       "      <th>z-score</th>\n",
       "      <td>1.000000</td>\n",
       "      <td>0.075216</td>\n",
       "      <td>0.451060</td>\n",
       "      <td>0.173445</td>\n",
       "      <td>1.000000</td>\n",
       "    </tr>\n",
       "  </tbody>\n",
       "</table>\n",
       "</div>"
      ],
      "text/plain": [
       "                            Rating  NumberOfRatings     Price  \\\n",
       "Rating                    1.000000         0.075216  0.451060   \n",
       "NumberOfRatings           0.075216         1.000000  0.006407   \n",
       "Price                     0.451060         0.006407  1.000000   \n",
       "Recommended budget wines  0.173445         0.071815 -0.087665   \n",
       "z-score                   1.000000         0.075216  0.451060   \n",
       "\n",
       "                          Recommended budget wines   z-score  \n",
       "Rating                                    0.173445  1.000000  \n",
       "NumberOfRatings                           0.071815  0.075216  \n",
       "Price                                    -0.087665  0.451060  \n",
       "Recommended budget wines                  1.000000  0.173445  \n",
       "z-score                                   0.173445  1.000000  "
      ]
     },
     "execution_count": 73,
     "metadata": {},
     "output_type": "execute_result"
    }
   ],
   "source": [
    "wine.corr() #посмотрим коэффициенты для всех количественных переменных"
   ]
  },
  {
   "cell_type": "markdown",
   "id": "6e36eecc",
   "metadata": {},
   "source": [
    "В датасете нет данных с сильной зависимостью"
   ]
  },
  {
   "cell_type": "markdown",
   "id": "1c83cdbc",
   "metadata": {},
   "source": [
    "**Далее перейдем к блоку визуализации данных**"
   ]
  },
  {
   "cell_type": "code",
   "execution_count": 74,
   "id": "a0bc3c97",
   "metadata": {},
   "outputs": [],
   "source": [
    "import matplotlib.pyplot as plt  #импортируем дополнительно библтотеку"
   ]
  },
  {
   "cell_type": "code",
   "execution_count": 75,
   "id": "bb2f33e8",
   "metadata": {
    "scrolled": false
   },
   "outputs": [
    {
     "data": {
      "text/plain": [
       "Country\n",
       "Argentina        3.829268\n",
       "Australia        3.843089\n",
       "Austria          3.799545\n",
       "Brazil           3.502500\n",
       "Bulgaria         3.800000\n",
       "Canada           3.300000\n",
       "Chile            3.769325\n",
       "China            2.900000\n",
       "Croatia          4.100000\n",
       "France           3.935151\n",
       "Georgia          4.140000\n",
       "Germany          3.787097\n",
       "Greece           3.792308\n",
       "Hungary          3.655556\n",
       "Israel           3.807692\n",
       "Italy            3.924453\n",
       "Lebanon          4.160000\n",
       "Mexico           3.400000\n",
       "Moldova          4.162500\n",
       "New Zealand      3.747619\n",
       "Portugal         3.894348\n",
       "Romania          3.756522\n",
       "Slovakia         3.800000\n",
       "Slovenia         3.537500\n",
       "South Africa     3.860000\n",
       "Spain            3.840018\n",
       "Switzerland      3.841667\n",
       "Turkey           3.800000\n",
       "United States    3.952406\n",
       "Uruguay          3.825000\n",
       "Name: Rating, dtype: float64"
      ]
     },
     "execution_count": 75,
     "metadata": {},
     "output_type": "execute_result"
    }
   ],
   "source": [
    "country_rating = wine.groupby(wine['Country'])['Rating'].mean()\n",
    "country_rating  #группируем данные про странам и считаем средний рейтинг для каждой страны"
   ]
  },
  {
   "cell_type": "markdown",
   "id": "73199320",
   "metadata": {},
   "source": [
    "Данные не очень подходят для визуализации"
   ]
  },
  {
   "cell_type": "code",
   "execution_count": 76,
   "id": "91a046f9",
   "metadata": {},
   "outputs": [
    {
     "data": {
      "text/plain": [
       "Year\n",
       "1988    4.300000\n",
       "1989    4.550000\n",
       "1990    4.400000\n",
       "1991    4.400000\n",
       "1992    4.300000\n",
       "1993    4.500000\n",
       "1995    4.175000\n",
       "1996    4.100000\n",
       "1997    4.328571\n",
       "1998    4.233333\n",
       "1999    4.293333\n",
       "2000    4.252632\n",
       "2001    4.116667\n",
       "2002    4.314286\n",
       "2003    4.209091\n",
       "2004    4.162963\n",
       "2005    4.141558\n",
       "2006    4.204545\n",
       "2007    4.051163\n",
       "2008    4.087500\n",
       "2009    4.084524\n",
       "2010    4.093103\n",
       "2011    4.016187\n",
       "2012    4.001078\n",
       "2013    3.984752\n",
       "2014    3.912782\n",
       "2015    3.929513\n",
       "2016    3.888851\n",
       "2017    3.809820\n",
       "2018    3.692630\n",
       "2019    3.658621\n",
       "N.V.    4.100000\n",
       "Name: Rating, dtype: float64"
      ]
     },
     "execution_count": 76,
     "metadata": {},
     "output_type": "execute_result"
    }
   ],
   "source": [
    "year_mean = wine.groupby(wine['Year'])['Rating'].mean()\n",
    "year_mean"
   ]
  },
  {
   "cell_type": "code",
   "execution_count": 77,
   "id": "d5c98845",
   "metadata": {},
   "outputs": [
    {
     "data": {
      "text/plain": [
       "[<matplotlib.lines.Line2D at 0x1fb60cc5f70>]"
      ]
     },
     "execution_count": 77,
     "metadata": {},
     "output_type": "execute_result"
    },
    {
     "data": {
      "image/png": "[encoded data removed]",
      "text/plain": [
       "<Figure size 1440x576 with 1 Axes>"
      ]
     },
     "metadata": {
      "needs_background": "light"
     },
     "output_type": "display_data"
    }
   ],
   "source": [
    "fig, ax = plt.subplots(figsize=(20,8)) \n",
    "ax.plot(year_mean)"
   ]
  },
  {
   "cell_type": "markdown",
   "id": "ef2dd6b3",
   "metadata": {},
   "source": [
    "*На графике видим, что прослеживается тенденция спада рейтинга вина со временем. Можно сделать вывод, что выдержанное вино имеет лушее качество, чем молодое вино*"
   ]
  },
  {
   "cell_type": "code",
   "execution_count": 78,
   "id": "0d65c6cf",
   "metadata": {},
   "outputs": [],
   "source": [
    "price_category = wine.groupby(['Price Category', 'Price'])['NumberOfRatings'].sum()"
   ]
  },
  {
   "cell_type": "code",
   "execution_count": 79,
   "id": "c35d313a",
   "metadata": {},
   "outputs": [
    {
     "data": {
      "text/plain": [
       "<matplotlib.legend.Legend at 0x1fb5e76c1f0>"
      ]
     },
     "execution_count": 79,
     "metadata": {},
     "output_type": "execute_result"
    },
    {
     "data": {
      "image/png": "[encoded data removed]",
      "text/plain": [
       "<Figure size 720x360 with 1 Axes>"
      ]
     },
     "metadata": {
      "needs_background": "light"
     },
     "output_type": "display_data"
    }
   ],
   "source": [
    "fig, ax = plt.subplots(figsize=(10,5))\n",
    "ax.plot(price_category.loc['Low'])\n",
    "ax.plot(price_category.loc['Medium'])\n",
    "ax.plot(price_category.loc['High'])\n",
    "ax.legend(['Low', 'Medium', 'High'], frameon = False)"
   ]
  },
  {
   "cell_type": "markdown",
   "id": "206958a4",
   "metadata": {},
   "source": [
    "*Данный график показывает, что с увеличением цены уменьшается количество отзывов*"
   ]
  },
  {
   "cell_type": "code",
   "execution_count": 80,
   "id": "45cdebe4",
   "metadata": {},
   "outputs": [],
   "source": [
    "rating_temp = wine.groupby(['Rating Category', 'Year'])['Price'].mean()"
   ]
  },
  {
   "cell_type": "code",
   "execution_count": 81,
   "id": "8a86e852",
   "metadata": {},
   "outputs": [
    {
     "data": {
      "text/plain": [
       "<matplotlib.legend.Legend at 0x1fb60e82970>"
      ]
     },
     "execution_count": 81,
     "metadata": {},
     "output_type": "execute_result"
    },
    {
     "data": {
      "image/png": "[encoded data removed]",
      "text/plain": [
       "<Figure size 1440x720 with 4 Axes>"
      ]
     },
     "metadata": {
      "needs_background": "light"
     },
     "output_type": "display_data"
    }
   ],
   "source": [
    "fig, ax = plt.subplots(2,2, figsize = (20, 10))\n",
    "\n",
    "ax[0][0].plot(rating_temp.loc['Great'], c = 'green')\n",
    "ax[0][1].plot(rating_temp.loc['Good'], c = 'yellow')\n",
    "ax[1][0].plot(rating_temp.loc['Mediocre'], c = 'orange')\n",
    "ax[1][1].plot(rating_temp.loc['Not recommended'], c = 'red')\n",
    "\n",
    "for axis in ax.ravel():\n",
    "    axis.spines['right'].set_visible(False)\n",
    "    axis.spines['top'].set_visible(False)\n",
    "    x = plt.xticks(rotation = 90)\n",
    "    \n",
    "ax[0][0].legend(['Great', 'Annual average'], frameon = False)\n",
    "ax[0][1].legend(['Good', 'Annual average'], frameon = False)\n",
    "ax[1][0].legend(['Mediocre', 'Annual average'], frameon = False)\n",
    "ax[1][1].legend(['Not recommended', 'Annual average'], frameon = False)"
   ]
  },
  {
   "cell_type": "markdown",
   "id": "b7825aa7",
   "metadata": {},
   "source": [
    "*На графиках выше можно проанализировать среднегодовую цену на вино в 4 разных категориях вина по качеству. Для отличных, хороших и средних вин прослеживается зависимость от года: чем старее вино, тем выше цена. Для вин плохого качества нет зависимости между ценой и годом производства*"
   ]
  },
  {
   "cell_type": "markdown",
   "id": "e2ba9f9e",
   "metadata": {},
   "source": [
    "**Далее перейдем к блоку продвинутой визуализации**"
   ]
  },
  {
   "cell_type": "code",
   "execution_count": 82,
   "id": "e539b4a6",
   "metadata": {},
   "outputs": [],
   "source": [
    "import seaborn as sns"
   ]
  },
  {
   "cell_type": "code",
   "execution_count": 83,
   "id": "19f4bec2",
   "metadata": {},
   "outputs": [],
   "source": [
    "num_features = ['Rating', 'NumberOfRatings', 'Price']\n",
    "cat_features = ['Rating Category', 'Price Category', 'Recommended budget wines']"
   ]
  },
  {
   "cell_type": "code",
   "execution_count": 84,
   "id": "0b502da5",
   "metadata": {},
   "outputs": [
    {
     "name": "stderr",
     "output_type": "stream",
     "text": [
      "C:\\Users\\Computer\\anaconda3\\lib\\site-packages\\seaborn\\distributions.py:2619: FutureWarning: `distplot` is a deprecated function and will be removed in a future version. Please adapt your code to use either `displot` (a figure-level function with similar flexibility) or `histplot` (an axes-level function for histograms).\n",
      "  warnings.warn(msg, FutureWarning)\n"
     ]
    },
    {
     "data": {
      "text/plain": [
       "<AxesSubplot:xlabel='Rating', ylabel='Density'>"
      ]
     },
     "execution_count": 84,
     "metadata": {},
     "output_type": "execute_result"
    },
    {
     "data": {
      "image/png": "[encoded data removed]",
      "text/plain": [
       "<Figure size 432x288 with 1 Axes>"
      ]
     },
     "metadata": {
      "needs_background": "light"
     },
     "output_type": "display_data"
    }
   ],
   "source": [
    "sns.distplot(wine['Rating'])  #посмотрим распределение для рейтинга"
   ]
  },
  {
   "cell_type": "markdown",
   "id": "fd1a41f8",
   "metadata": {},
   "source": [
    "***Прошу не обращать внимание на красные блоки, это не ошибка, а предупреждение***"
   ]
  },
  {
   "cell_type": "code",
   "execution_count": 85,
   "id": "a85ec464",
   "metadata": {},
   "outputs": [
    {
     "name": "stderr",
     "output_type": "stream",
     "text": [
      "C:\\Users\\Computer\\anaconda3\\lib\\site-packages\\seaborn\\distributions.py:2619: FutureWarning: `distplot` is a deprecated function and will be removed in a future version. Please adapt your code to use either `displot` (a figure-level function with similar flexibility) or `histplot` (an axes-level function for histograms).\n",
      "  warnings.warn(msg, FutureWarning)\n"
     ]
    },
    {
     "data": {
      "text/plain": [
       "<AxesSubplot:xlabel='NumberOfRatings', ylabel='Density'>"
      ]
     },
     "execution_count": 85,
     "metadata": {},
     "output_type": "execute_result"
    },
    {
     "data": {
      "image/png": "[encoded data removed]",
      "text/plain": [
       "<Figure size 432x288 with 1 Axes>"
      ]
     },
     "metadata": {
      "needs_background": "light"
     },
     "output_type": "display_data"
    }
   ],
   "source": [
    "sns.distplot(wine['NumberOfRatings']) #посмотрим распределения количества рейтингов"
   ]
  },
  {
   "cell_type": "code",
   "execution_count": 86,
   "id": "0cc9ed3c",
   "metadata": {},
   "outputs": [
    {
     "data": {
      "text/plain": [
       "Low       4751\n",
       "Medium    3762\n",
       "High       153\n",
       "Name: Price Category, dtype: int64"
      ]
     },
     "execution_count": 86,
     "metadata": {},
     "output_type": "execute_result"
    }
   ],
   "source": [
    "wine['Price Category'].value_counts()"
   ]
  },
  {
   "cell_type": "code",
   "execution_count": 87,
   "id": "07674900",
   "metadata": {},
   "outputs": [
    {
     "data": {
      "text/plain": [
       "<AxesSubplot:ylabel='Price Category'>"
      ]
     },
     "execution_count": 87,
     "metadata": {},
     "output_type": "execute_result"
    },
    {
     "data": {
      "image/png": "[encoded data removed]",
      "text/plain": [
       "<Figure size 432x288 with 1 Axes>"
      ]
     },
     "metadata": {
      "needs_background": "light"
     },
     "output_type": "display_data"
    }
   ],
   "source": [
    "sns.barplot(x = wine['Price Category'].value_counts().index, y = wine['Price Category'].value_counts())"
   ]
  },
  {
   "cell_type": "code",
   "execution_count": 88,
   "id": "81da7782",
   "metadata": {},
   "outputs": [
    {
     "data": {
      "text/plain": [
       "<AxesSubplot:xlabel='Price Category', ylabel='Rating'>"
      ]
     },
     "execution_count": 88,
     "metadata": {},
     "output_type": "execute_result"
    },
    {
     "data": {
      "image/png": "[encoded data removed]",
      "text/plain": [
       "<Figure size 432x288 with 1 Axes>"
      ]
     },
     "metadata": {
      "needs_background": "light"
     },
     "output_type": "display_data"
    }
   ],
   "source": [
    "sns.violinplot(x = wine['Price Category'], y = wine['Rating'])     #построим скрипичный график"
   ]
  },
  {
   "cell_type": "markdown",
   "id": "b755bb94",
   "metadata": {},
   "source": [
    "На данном графике мы видим распределения рейтинга относительно винных ценовых категорий"
   ]
  },
  {
   "cell_type": "code",
   "execution_count": 89,
   "id": "76f5ae24",
   "metadata": {},
   "outputs": [
    {
     "data": {
      "text/plain": [
       "<AxesSubplot:xlabel='Price Category', ylabel='Rating'>"
      ]
     },
     "execution_count": 89,
     "metadata": {},
     "output_type": "execute_result"
    },
    {
     "data": {
      "image/png": "[encoded data removed]",
      "text/plain": [
       "<Figure size 432x288 with 1 Axes>"
      ]
     },
     "metadata": {
      "needs_background": "light"
     },
     "output_type": "display_data"
    }
   ],
   "source": [
    "sns.boxplot(x = wine['Price Category'], y = wine['Rating'])     #построим график с усами"
   ]
  },
  {
   "cell_type": "markdown",
   "id": "6339d25d",
   "metadata": {},
   "source": [
    "Построим тепловую карту:"
   ]
  },
  {
   "cell_type": "code",
   "execution_count": 90,
   "id": "e25c4946",
   "metadata": {},
   "outputs": [
    {
     "data": {
      "text/html": [
       "<div>\n",
       "<style scoped>\n",
       "    .dataframe tbody tr th:only-of-type {\n",
       "        vertical-align: middle;\n",
       "    }\n",
       "\n",
       "    .dataframe tbody tr th {\n",
       "        vertical-align: top;\n",
       "    }\n",
       "\n",
       "    .dataframe thead th {\n",
       "        text-align: right;\n",
       "    }\n",
       "</style>\n",
       "<table border=\"1\" class=\"dataframe\">\n",
       "  <thead>\n",
       "    <tr style=\"text-align: right;\">\n",
       "      <th></th>\n",
       "      <th>Rating</th>\n",
       "      <th>NumberOfRatings</th>\n",
       "      <th>Price</th>\n",
       "    </tr>\n",
       "  </thead>\n",
       "  <tbody>\n",
       "    <tr>\n",
       "      <th>Rating</th>\n",
       "      <td>1.000000</td>\n",
       "      <td>0.075216</td>\n",
       "      <td>0.451060</td>\n",
       "    </tr>\n",
       "    <tr>\n",
       "      <th>NumberOfRatings</th>\n",
       "      <td>0.075216</td>\n",
       "      <td>1.000000</td>\n",
       "      <td>0.006407</td>\n",
       "    </tr>\n",
       "    <tr>\n",
       "      <th>Price</th>\n",
       "      <td>0.451060</td>\n",
       "      <td>0.006407</td>\n",
       "      <td>1.000000</td>\n",
       "    </tr>\n",
       "  </tbody>\n",
       "</table>\n",
       "</div>"
      ],
      "text/plain": [
       "                   Rating  NumberOfRatings     Price\n",
       "Rating           1.000000         0.075216  0.451060\n",
       "NumberOfRatings  0.075216         1.000000  0.006407\n",
       "Price            0.451060         0.006407  1.000000"
      ]
     },
     "execution_count": 90,
     "metadata": {},
     "output_type": "execute_result"
    }
   ],
   "source": [
    "correlation = wine.corr().loc[num_features, num_features]\n",
    "correlation"
   ]
  },
  {
   "cell_type": "code",
   "execution_count": 91,
   "id": "01ede608",
   "metadata": {},
   "outputs": [
    {
     "data": {
      "text/plain": [
       "<AxesSubplot:>"
      ]
     },
     "execution_count": 91,
     "metadata": {},
     "output_type": "execute_result"
    },
    {
     "data": {
      "image/png": "[encoded data removed]",
      "text/plain": [
       "<Figure size 1008x864 with 2 Axes>"
      ]
     },
     "metadata": {
      "needs_background": "light"
     },
     "output_type": "display_data"
    }
   ],
   "source": [
    "fig, ax = plt.subplots(figsize = (14,12))\n",
    "\n",
    "sns.heatmap(correlation, annot = True, linecolor = 'white', linewidth = 0.5, annot_kws = {'size' : 20}, vmax = 1, vmin = -1)"
   ]
  },
  {
   "cell_type": "markdown",
   "id": "247a9fea",
   "metadata": {},
   "source": [
    "Видим, что сильной корреляции между показателями нет"
   ]
  },
  {
   "cell_type": "code",
   "execution_count": 92,
   "id": "1105b951",
   "metadata": {},
   "outputs": [
    {
     "data": {
      "text/plain": [
       "<seaborn.axisgrid.PairGrid at 0x1fb61d35e50>"
      ]
     },
     "execution_count": 92,
     "metadata": {},
     "output_type": "execute_result"
    },
    {
     "data": {
      "image/png": "[encoded data removed]",
      "text/plain": [
       "<Figure size 540x540 with 12 Axes>"
      ]
     },
     "metadata": {
      "needs_background": "light"
     },
     "output_type": "display_data"
    }
   ],
   "source": [
    "sns.pairplot(wine[num_features])   #строим графики рассеяния "
   ]
  },
  {
   "cell_type": "markdown",
   "id": "dce8d15d",
   "metadata": {},
   "source": [
    "Выведем разные графики для показателя Rating"
   ]
  },
  {
   "cell_type": "code",
   "execution_count": 93,
   "id": "5d48ecd7",
   "metadata": {},
   "outputs": [],
   "source": [
    "wine_melted = pd.melt(wine, id_vars = 'Rating', value_vars = cat_features)"
   ]
  },
  {
   "cell_type": "code",
   "execution_count": 94,
   "id": "a132ddcc",
   "metadata": {},
   "outputs": [
    {
     "data": {
      "text/plain": [
       "<seaborn.axisgrid.FacetGrid at 0x1fb61e0cfd0>"
      ]
     },
     "execution_count": 94,
     "metadata": {},
     "output_type": "execute_result"
    },
    {
     "data": {
      "image/png": "[encoded data removed]",
      "text/plain": [
       "<Figure size 720x720 with 3 Axes>"
      ]
     },
     "metadata": {
      "needs_background": "light"
     },
     "output_type": "display_data"
    }
   ],
   "source": [
    "def boxplot(x, y, **kwargs):\n",
    "    sns.boxplot(x=x, y=y)\n",
    "    x=plt.xticks(rotation = 90)\n",
    "    \n",
    "g = sns.FacetGrid(wine_melted, col = \"variable\",\n",
    "                 col_wrap = 2, sharex = False, sharey = False, height = 5)\n",
    "\n",
    "g.map(boxplot, 'value', 'Rating')"
   ]
  },
  {
   "cell_type": "markdown",
   "id": "af15e005",
   "metadata": {},
   "source": [
    "*На верхнем левом графике отображается зависимость рейтинга вина от цены; на верхнем правим видим зависимость ценовой категории и рейтинга вина; и на нижнем графики видим зависимость от рейтинга показателя Recommended budget wines*"
   ]
  },
  {
   "cell_type": "markdown",
   "id": "29c9761e",
   "metadata": {},
   "source": [
    "**Критерий Хи-квадрат**"
   ]
  },
  {
   "cell_type": "code",
   "execution_count": 95,
   "id": "1634772d",
   "metadata": {},
   "outputs": [
    {
     "data": {
      "text/html": [
       "<div>\n",
       "<style scoped>\n",
       "    .dataframe tbody tr th:only-of-type {\n",
       "        vertical-align: middle;\n",
       "    }\n",
       "\n",
       "    .dataframe tbody tr th {\n",
       "        vertical-align: top;\n",
       "    }\n",
       "\n",
       "    .dataframe thead th {\n",
       "        text-align: right;\n",
       "    }\n",
       "</style>\n",
       "<table border=\"1\" class=\"dataframe\">\n",
       "  <thead>\n",
       "    <tr style=\"text-align: right;\">\n",
       "      <th>Price Category</th>\n",
       "      <th>High</th>\n",
       "      <th>Low</th>\n",
       "      <th>Medium</th>\n",
       "    </tr>\n",
       "    <tr>\n",
       "      <th>Rating Category</th>\n",
       "      <th></th>\n",
       "      <th></th>\n",
       "      <th></th>\n",
       "    </tr>\n",
       "  </thead>\n",
       "  <tbody>\n",
       "    <tr>\n",
       "      <th>Good</th>\n",
       "      <td>32.0</td>\n",
       "      <td>718.0</td>\n",
       "      <td>2569.0</td>\n",
       "    </tr>\n",
       "    <tr>\n",
       "      <th>Great</th>\n",
       "      <td>121.0</td>\n",
       "      <td>NaN</td>\n",
       "      <td>166.0</td>\n",
       "    </tr>\n",
       "    <tr>\n",
       "      <th>Mediocre</th>\n",
       "      <td>NaN</td>\n",
       "      <td>3964.0</td>\n",
       "      <td>1024.0</td>\n",
       "    </tr>\n",
       "    <tr>\n",
       "      <th>Not recommended</th>\n",
       "      <td>NaN</td>\n",
       "      <td>69.0</td>\n",
       "      <td>3.0</td>\n",
       "    </tr>\n",
       "  </tbody>\n",
       "</table>\n",
       "</div>"
      ],
      "text/plain": [
       "Price Category    High     Low  Medium\n",
       "Rating Category                       \n",
       "Good              32.0   718.0  2569.0\n",
       "Great            121.0     NaN   166.0\n",
       "Mediocre           NaN  3964.0  1024.0\n",
       "Not recommended    NaN    69.0     3.0"
      ]
     },
     "execution_count": 95,
     "metadata": {},
     "output_type": "execute_result"
    }
   ],
   "source": [
    "ct_o = wine.groupby('Rating Category')['Price Category'].value_counts().unstack()\n",
    "ct_o"
   ]
  },
  {
   "cell_type": "markdown",
   "id": "32ebfd04",
   "metadata": {},
   "source": [
    "*dof - (R - 1)(C - 1)*"
   ]
  },
  {
   "cell_type": "code",
   "execution_count": 96,
   "id": "294f7802",
   "metadata": {},
   "outputs": [
    {
     "name": "stdout",
     "output_type": "stream",
     "text": [
      "1\n"
     ]
    }
   ],
   "source": [
    "alpha = 0.01\n",
    "dof = (2 - 1)*(2 - 1)\n",
    "print(dof)\n",
    "critical_value = 11.3"
   ]
  },
  {
   "cell_type": "code",
   "execution_count": 97,
   "id": "898149f8",
   "metadata": {},
   "outputs": [
    {
     "name": "stdout",
     "output_type": "stream",
     "text": [
      "Price Category\n",
      "High       153.0\n",
      "Low       4751.0\n",
      "Medium    3762.0\n",
      "dtype: float64\n"
     ]
    }
   ],
   "source": [
    "n_total = ct_o.sum()\n",
    "print(n_total)"
   ]
  },
  {
   "cell_type": "code",
   "execution_count": 98,
   "id": "229bea4a",
   "metadata": {},
   "outputs": [
    {
     "name": "stdout",
     "output_type": "stream",
     "text": [
      "8666.0\n"
     ]
    }
   ],
   "source": [
    "n_total = ct_o.sum().sum()\n",
    "print(n_total)"
   ]
  },
  {
   "cell_type": "markdown",
   "id": "097745c4",
   "metadata": {},
   "source": [
    "**Проверим гипотезу: Цена вина зависит от рейтинга**"
   ]
  },
  {
   "cell_type": "markdown",
   "id": "03e21047",
   "metadata": {},
   "source": [
    "Для проверки гипотезы расчитаем Хи-квадрат"
   ]
  },
  {
   "cell_type": "code",
   "execution_count": 99,
   "id": "d1661d97",
   "metadata": {},
   "outputs": [
    {
     "data": {
      "text/plain": [
       "(nan,\n",
       " nan,\n",
       " 6,\n",
       " array([[nan, nan, nan],\n",
       "        [nan, nan, nan],\n",
       "        [nan, nan, nan],\n",
       "        [nan, nan, nan]]))"
      ]
     },
     "execution_count": 99,
     "metadata": {},
     "output_type": "execute_result"
    }
   ],
   "source": [
    "scipy.stats.chi2_contingency(ct_o, correction = False)"
   ]
  },
  {
   "cell_type": "markdown",
   "id": "e2037f47",
   "metadata": {},
   "source": [
    "Число 6 говорит о том, что зависимость есть"
   ]
  },
  {
   "cell_type": "code",
   "execution_count": 100,
   "id": "a92c4973",
   "metadata": {},
   "outputs": [
    {
     "data": {
      "text/html": [
       "<div>\n",
       "<style scoped>\n",
       "    .dataframe tbody tr th:only-of-type {\n",
       "        vertical-align: middle;\n",
       "    }\n",
       "\n",
       "    .dataframe tbody tr th {\n",
       "        vertical-align: top;\n",
       "    }\n",
       "\n",
       "    .dataframe thead th {\n",
       "        text-align: right;\n",
       "    }\n",
       "</style>\n",
       "<table border=\"1\" class=\"dataframe\">\n",
       "  <thead>\n",
       "    <tr style=\"text-align: right;\">\n",
       "      <th></th>\n",
       "      <th>Name</th>\n",
       "      <th>Country</th>\n",
       "      <th>Region</th>\n",
       "      <th>Winery</th>\n",
       "      <th>Rating</th>\n",
       "      <th>NumberOfRatings</th>\n",
       "      <th>Price</th>\n",
       "      <th>Year</th>\n",
       "      <th>Rating Category</th>\n",
       "      <th>Price Category</th>\n",
       "      <th>Recommended budget wines</th>\n",
       "      <th>z-score</th>\n",
       "    </tr>\n",
       "  </thead>\n",
       "  <tbody>\n",
       "    <tr>\n",
       "      <th>0</th>\n",
       "      <td>Pomerol 2011</td>\n",
       "      <td>France</td>\n",
       "      <td>Pomerol</td>\n",
       "      <td>Château La Providence</td>\n",
       "      <td>4.2</td>\n",
       "      <td>100</td>\n",
       "      <td>95.00</td>\n",
       "      <td>2011</td>\n",
       "      <td>Good</td>\n",
       "      <td>Medium</td>\n",
       "      <td>0</td>\n",
       "      <td>1.003658</td>\n",
       "    </tr>\n",
       "    <tr>\n",
       "      <th>1</th>\n",
       "      <td>Lirac 2017</td>\n",
       "      <td>France</td>\n",
       "      <td>Lirac</td>\n",
       "      <td>Château Mont-Redon</td>\n",
       "      <td>4.3</td>\n",
       "      <td>100</td>\n",
       "      <td>15.50</td>\n",
       "      <td>2017</td>\n",
       "      <td>Good</td>\n",
       "      <td>Low</td>\n",
       "      <td>1</td>\n",
       "      <td>1.327776</td>\n",
       "    </tr>\n",
       "    <tr>\n",
       "      <th>2</th>\n",
       "      <td>Erta e China Rosso di Toscana 2015</td>\n",
       "      <td>Italy</td>\n",
       "      <td>Toscana</td>\n",
       "      <td>Renzo Masi</td>\n",
       "      <td>3.9</td>\n",
       "      <td>100</td>\n",
       "      <td>7.45</td>\n",
       "      <td>2015</td>\n",
       "      <td>Mediocre</td>\n",
       "      <td>Low</td>\n",
       "      <td>0</td>\n",
       "      <td>0.031305</td>\n",
       "    </tr>\n",
       "    <tr>\n",
       "      <th>3</th>\n",
       "      <td>Bardolino 2019</td>\n",
       "      <td>Italy</td>\n",
       "      <td>Bardolino</td>\n",
       "      <td>Cavalchina</td>\n",
       "      <td>3.5</td>\n",
       "      <td>100</td>\n",
       "      <td>8.72</td>\n",
       "      <td>2019</td>\n",
       "      <td>Mediocre</td>\n",
       "      <td>Low</td>\n",
       "      <td>0</td>\n",
       "      <td>-1.265167</td>\n",
       "    </tr>\n",
       "    <tr>\n",
       "      <th>4</th>\n",
       "      <td>Ried Scheibner Pinot Noir 2016</td>\n",
       "      <td>Austria</td>\n",
       "      <td>Carnuntum</td>\n",
       "      <td>Markowitsch</td>\n",
       "      <td>3.9</td>\n",
       "      <td>100</td>\n",
       "      <td>29.15</td>\n",
       "      <td>2016</td>\n",
       "      <td>Mediocre</td>\n",
       "      <td>Medium</td>\n",
       "      <td>0</td>\n",
       "      <td>0.031305</td>\n",
       "    </tr>\n",
       "  </tbody>\n",
       "</table>\n",
       "</div>"
      ],
      "text/plain": [
       "                                 Name  Country     Region  \\\n",
       "0                        Pomerol 2011   France    Pomerol   \n",
       "1                          Lirac 2017   France      Lirac   \n",
       "2  Erta e China Rosso di Toscana 2015    Italy    Toscana   \n",
       "3                      Bardolino 2019    Italy  Bardolino   \n",
       "4      Ried Scheibner Pinot Noir 2016  Austria  Carnuntum   \n",
       "\n",
       "                  Winery  Rating  NumberOfRatings  Price  Year  \\\n",
       "0  Château La Providence     4.2              100  95.00  2011   \n",
       "1     Château Mont-Redon     4.3              100  15.50  2017   \n",
       "2             Renzo Masi     3.9              100   7.45  2015   \n",
       "3             Cavalchina     3.5              100   8.72  2019   \n",
       "4            Markowitsch     3.9              100  29.15  2016   \n",
       "\n",
       "  Rating Category Price Category  Recommended budget wines   z-score  \n",
       "0            Good         Medium                         0  1.003658  \n",
       "1            Good            Low                         1  1.327776  \n",
       "2        Mediocre            Low                         0  0.031305  \n",
       "3        Mediocre            Low                         0 -1.265167  \n",
       "4        Mediocre         Medium                         0  0.031305  "
      ]
     },
     "execution_count": 100,
     "metadata": {},
     "output_type": "execute_result"
    }
   ],
   "source": [
    "wine.head()"
   ]
  },
  {
   "cell_type": "markdown",
   "id": "37b94f74",
   "metadata": {},
   "source": [
    "**Проведем Т-тест**"
   ]
  },
  {
   "cell_type": "markdown",
   "id": "8af39a29",
   "metadata": {},
   "source": [
    "Гипотеза такая: Рейтинг зависит от цены"
   ]
  },
  {
   "cell_type": "code",
   "execution_count": 101,
   "id": "032a7c3e",
   "metadata": {},
   "outputs": [],
   "source": [
    "high_price = wine[wine['Price Category'] == 'High']['Rating']\n",
    "medium_price = wine[wine['Price Category'] == 'Medium']['Rating']\n",
    "low_price = wine[wine['Price Category'] == 'Low']['Rating']"
   ]
  },
  {
   "cell_type": "markdown",
   "id": "2f339492",
   "metadata": {},
   "source": [
    "Проверим, является ли распределение нормальным:"
   ]
  },
  {
   "cell_type": "code",
   "execution_count": 102,
   "id": "b77158e1",
   "metadata": {},
   "outputs": [
    {
     "data": {
      "text/plain": [
       "<AxesSubplot:>"
      ]
     },
     "execution_count": 102,
     "metadata": {},
     "output_type": "execute_result"
    },
    {
     "data": {
      "image/png": "[encoded data removed]",
      "text/plain": [
       "<Figure size 432x288 with 1 Axes>"
      ]
     },
     "metadata": {
      "needs_background": "light"
     },
     "output_type": "display_data"
    }
   ],
   "source": [
    "high_price.hist()"
   ]
  },
  {
   "cell_type": "code",
   "execution_count": 103,
   "id": "e0d8e973",
   "metadata": {},
   "outputs": [
    {
     "data": {
      "text/plain": [
       "<AxesSubplot:>"
      ]
     },
     "execution_count": 103,
     "metadata": {},
     "output_type": "execute_result"
    },
    {
     "data": {
      "image/png": "[encoded data removed]",
      "text/plain": [
       "<Figure size 432x288 with 1 Axes>"
      ]
     },
     "metadata": {
      "needs_background": "light"
     },
     "output_type": "display_data"
    }
   ],
   "source": [
    "medium_price.hist()"
   ]
  },
  {
   "cell_type": "code",
   "execution_count": 104,
   "id": "07fa2947",
   "metadata": {},
   "outputs": [
    {
     "data": {
      "text/plain": [
       "<AxesSubplot:>"
      ]
     },
     "execution_count": 104,
     "metadata": {},
     "output_type": "execute_result"
    },
    {
     "data": {
      "image/png": "[encoded data removed]",
      "text/plain": [
       "<Figure size 432x288 with 1 Axes>"
      ]
     },
     "metadata": {
      "needs_background": "light"
     },
     "output_type": "display_data"
    }
   ],
   "source": [
    "low_price.hist()"
   ]
  },
  {
   "cell_type": "code",
   "execution_count": 105,
   "id": "9a53fbf5",
   "metadata": {},
   "outputs": [
    {
     "name": "stdout",
     "output_type": "stream",
     "text": [
      "0.02099071207430341\n",
      "0.05159057514226141\n",
      "0.05660244735180414\n"
     ]
    }
   ],
   "source": [
    "print(high_price.var())  #расчитаем дисперсии\n",
    "print(medium_price.var())\n",
    "print(low_price.var())"
   ]
  },
  {
   "cell_type": "code",
   "execution_count": 106,
   "id": "2e426386",
   "metadata": {},
   "outputs": [],
   "source": [
    "n_high = len(high_price)   #расчитаем необходимые показатели\n",
    "n_medium = len(medium_price)\n",
    "n_low = len(low_price)\n",
    "var_high = high_price.var()\n",
    "var_medium = medium_price.var()\n",
    "var_low = low_price.var()"
   ]
  },
  {
   "cell_type": "code",
   "execution_count": 107,
   "id": "89485d7e",
   "metadata": {},
   "outputs": [
    {
     "name": "stdout",
     "output_type": "stream",
     "text": [
      "-1.3840302402796665\n"
     ]
    }
   ],
   "source": [
    "v_high = var_high / n_high\n",
    "v_medium = var_medium / n_medium\n",
    "v_low = var_low / n_low\n",
    "dof_welch = (v_high + v_medium + v_low)**2 / (v_high**2 / (v_high - 1) + v_medium**2 / (v_medium - 1) + v_low**2 / (v_low - 1))\n",
    "print(dof_welch)"
   ]
  },
  {
   "cell_type": "code",
   "execution_count": 108,
   "id": "0670f333",
   "metadata": {},
   "outputs": [],
   "source": [
    "def hypothesis_check(t, t_critical):\n",
    "    if abs(t) > t_critical:\n",
    "        print('Отвергаем НО. Разница между средними статистически значима.')\n",
    "    else:\n",
    "        print('Не удалось отвергнуть НО')\n",
    "        \n",
    "t_critical = 1.9667"
   ]
  },
  {
   "cell_type": "code",
   "execution_count": 109,
   "id": "bfb766ed",
   "metadata": {},
   "outputs": [
    {
     "name": "stdout",
     "output_type": "stream",
     "text": [
      "0.012760156592944704\n"
     ]
    }
   ],
   "source": [
    "s_m1_m2_m3 = np.sqrt(v_high + v_medium + v_low)\n",
    "print(s_m1_m2_m3)"
   ]
  },
  {
   "cell_type": "code",
   "execution_count": 110,
   "id": "7248b6da",
   "metadata": {},
   "outputs": [
    {
     "name": "stdout",
     "output_type": "stream",
     "text": [
      "4.54117647058824 4.087081339712925 3.71359713744475\n"
     ]
    }
   ],
   "source": [
    "mean_high = high_price.mean()\n",
    "mean_medium = medium_price.mean()\n",
    "mean_low = low_price.mean()\n",
    "print(mean_high, mean_medium, mean_low)"
   ]
  },
  {
   "cell_type": "code",
   "execution_count": 111,
   "id": "b82b6f4f",
   "metadata": {},
   "outputs": [
    {
     "name": "stdout",
     "output_type": "stream",
     "text": [
      "-255.44373086860597\n"
     ]
    }
   ],
   "source": [
    "t = (mean_high - mean_medium - mean_low)/ s_m1_m2_m3  #находим т-значение\n",
    "print(t)"
   ]
  },
  {
   "cell_type": "code",
   "execution_count": 112,
   "id": "52641456",
   "metadata": {},
   "outputs": [
    {
     "name": "stdout",
     "output_type": "stream",
     "text": [
      "Отвергаем НО. Разница между средними статистически значима.\n"
     ]
    }
   ],
   "source": [
    "hypothesis_check(t, t_critical)"
   ]
  },
  {
   "cell_type": "markdown",
   "id": "36a8507a",
   "metadata": {},
   "source": [
    "**Линейная регрессия**"
   ]
  },
  {
   "cell_type": "code",
   "execution_count": 113,
   "id": "7909293e",
   "metadata": {},
   "outputs": [],
   "source": [
    "import seaborn as sns\n",
    "import statsmodels.api as sm"
   ]
  },
  {
   "cell_type": "code",
   "execution_count": 114,
   "id": "aff84904",
   "metadata": {},
   "outputs": [
    {
     "data": {
      "text/html": [
       "<div>\n",
       "<style scoped>\n",
       "    .dataframe tbody tr th:only-of-type {\n",
       "        vertical-align: middle;\n",
       "    }\n",
       "\n",
       "    .dataframe tbody tr th {\n",
       "        vertical-align: top;\n",
       "    }\n",
       "\n",
       "    .dataframe thead th {\n",
       "        text-align: right;\n",
       "    }\n",
       "</style>\n",
       "<table border=\"1\" class=\"dataframe\">\n",
       "  <thead>\n",
       "    <tr style=\"text-align: right;\">\n",
       "      <th></th>\n",
       "      <th>Rating</th>\n",
       "      <th>NumberOfRatings</th>\n",
       "      <th>Price</th>\n",
       "    </tr>\n",
       "    <tr>\n",
       "      <th>Country</th>\n",
       "      <th></th>\n",
       "      <th></th>\n",
       "      <th></th>\n",
       "    </tr>\n",
       "  </thead>\n",
       "  <tbody>\n",
       "    <tr>\n",
       "      <th>Argentina</th>\n",
       "      <td>3.829268</td>\n",
       "      <td>223251</td>\n",
       "      <td>22.374024</td>\n",
       "    </tr>\n",
       "    <tr>\n",
       "      <th>Australia</th>\n",
       "      <td>3.843089</td>\n",
       "      <td>96566</td>\n",
       "      <td>41.008415</td>\n",
       "    </tr>\n",
       "    <tr>\n",
       "      <th>Austria</th>\n",
       "      <td>3.799545</td>\n",
       "      <td>27479</td>\n",
       "      <td>21.499682</td>\n",
       "    </tr>\n",
       "    <tr>\n",
       "      <th>Brazil</th>\n",
       "      <td>3.502500</td>\n",
       "      <td>22141</td>\n",
       "      <td>18.703000</td>\n",
       "    </tr>\n",
       "    <tr>\n",
       "      <th>Bulgaria</th>\n",
       "      <td>3.800000</td>\n",
       "      <td>898</td>\n",
       "      <td>10.150000</td>\n",
       "    </tr>\n",
       "  </tbody>\n",
       "</table>\n",
       "</div>"
      ],
      "text/plain": [
       "             Rating  NumberOfRatings      Price\n",
       "Country                                        \n",
       "Argentina  3.829268           223251  22.374024\n",
       "Australia  3.843089            96566  41.008415\n",
       "Austria    3.799545            27479  21.499682\n",
       "Brazil     3.502500            22141  18.703000\n",
       "Bulgaria   3.800000              898  10.150000"
      ]
     },
     "execution_count": 114,
     "metadata": {},
     "output_type": "execute_result"
    }
   ],
   "source": [
    "rating_mean = wine.groupby(wine['Country'])['Rating'].mean()\n",
    "numberofratings_sum = wine.groupby(wine['Country'])['NumberOfRatings'].sum()\n",
    "price_mean = wine.groupby(wine['Country'])['Price'].mean()\n",
    "\n",
    "wine_country = pd.concat([ rating_mean, numberofratings_sum, price_mean], axis = 1)\n",
    "wine_country.head()"
   ]
  },
  {
   "cell_type": "markdown",
   "id": "70b1dfda",
   "metadata": {},
   "source": [
    "Проверка предпосылок:"
   ]
  },
  {
   "cell_type": "code",
   "execution_count": 115,
   "id": "9c0894a4",
   "metadata": {},
   "outputs": [
    {
     "data": {
      "image/png": "[encoded data removed]",
      "text/plain": [
       "<Figure size 1440x1440 with 2 Axes>"
      ]
     },
     "metadata": {
      "needs_background": "light"
     },
     "output_type": "display_data"
    }
   ],
   "source": [
    "plt.figure(figsize = (20,20))\n",
    "p = sns.heatmap(wine_country.corr(), annot = True, cmap='RdYlGn', vmax = 1, vmin = -1)"
   ]
  },
  {
   "cell_type": "markdown",
   "id": "08a7663d",
   "metadata": {},
   "source": [
    "Проверяем линейную взаимосвязь:"
   ]
  },
  {
   "cell_type": "code",
   "execution_count": 116,
   "id": "43922f75",
   "metadata": {},
   "outputs": [
    {
     "data": {
      "text/plain": [
       "<seaborn.axisgrid.PairGrid at 0x1fb64e32970>"
      ]
     },
     "execution_count": 116,
     "metadata": {},
     "output_type": "execute_result"
    },
    {
     "data": {
      "image/png": "[encoded data removed]",
      "text/plain": [
       "<Figure size 540x540 with 12 Axes>"
      ]
     },
     "metadata": {
      "needs_background": "light"
     },
     "output_type": "display_data"
    }
   ],
   "source": [
    "sns.pairplot(wine_country)"
   ]
  },
  {
   "cell_type": "code",
   "execution_count": 117,
   "id": "cfa98cfe",
   "metadata": {},
   "outputs": [
    {
     "name": "stdout",
     "output_type": "stream",
     "text": [
      "LinregressResult(slope=12.309234305546797, intercept=-21.97576993893536, rvalue=0.26044700699690154, pvalue=0.164517452954656, stderr=8.623421158094615, intercept_stderr=32.68833962464422)\n"
     ]
    }
   ],
   "source": [
    "X = wine_country['Rating']\n",
    "y = wine_country['Price']\n",
    "\n",
    "res = scipy.stats.linregress(X, y)\n",
    "print(res)"
   ]
  },
  {
   "cell_type": "code",
   "execution_count": 118,
   "id": "62662967",
   "metadata": {},
   "outputs": [
    {
     "name": "stdout",
     "output_type": "stream",
     "text": [
      "0.06783264345364408\n"
     ]
    }
   ],
   "source": [
    "r_sq = res.rvalue**2      #вычисляем коэффициент детерминации\n",
    "print(r_sq)"
   ]
  },
  {
   "cell_type": "markdown",
   "id": "6f21ce76",
   "metadata": {},
   "source": [
    "Показатель 0.7 является не очень хорошим для объяснения модели"
   ]
  },
  {
   "cell_type": "code",
   "execution_count": 119,
   "id": "faad2328",
   "metadata": {},
   "outputs": [
    {
     "data": {
      "image/png": "[encoded data removed]",
      "text/plain": [
       "<Figure size 432x288 with 1 Axes>"
      ]
     },
     "metadata": {
      "needs_background": "light"
     },
     "output_type": "display_data"
    }
   ],
   "source": [
    "plt.scatter(X, y, label = 'оригинальные данные')\n",
    "plt.plot(X, res.intercept + res.slope * X, 'r', label = 'линия регрессии')\n",
    "plt.legend()\n",
    "plt.show()"
   ]
  },
  {
   "cell_type": "markdown",
   "id": "3da8bf87",
   "metadata": {},
   "source": [
    "Линейная регрессия слабо просматривается"
   ]
  },
  {
   "cell_type": "markdown",
   "id": "ee824607",
   "metadata": {},
   "source": [
    "Для построения **статистической регрессии** в данном датасете недостаточно данных"
   ]
  },
  {
   "cell_type": "markdown",
   "id": "1ba707cf",
   "metadata": {},
   "source": [
    "***Основные выводы из всей проделанной работы. На итоговую оценку красного вина пользователями Vivino влияют разные факторы: год производства вина, цена, страна. Количество отзывов на сайте зависит от цены бутылки: для дешевых вин оставляют отзывов больше, чем для дорогих. Так же, коррелируются количество отзывов и рейтинг вина: для хороших вин был оставлено намного больше отзывов, чем для плохих.***"
   ]
  }
 ],
 "metadata": {
  "kernelspec": {
   "display_name": "Python 3 (ipykernel)",
   "language": "python",
   "name": "python3"
  },
  "language_info": {
   "codemirror_mode": {
    "name": "ipython",
    "version": 3
   },
   "file_extension": ".py",
   "mimetype": "text/x-python",
   "name": "python",
   "nbconvert_exporter": "python",
   "pygments_lexer": "ipython3",
   "version": "3.9.12"
  }
 },
 "nbformat": 4,
 "nbformat_minor": 5
}
